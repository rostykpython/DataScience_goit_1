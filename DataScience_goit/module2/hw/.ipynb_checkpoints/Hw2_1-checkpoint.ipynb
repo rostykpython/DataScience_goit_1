{
 "cells": [
  {
   "cell_type": "code",
   "execution_count": 6,
   "metadata": {
    "id": "LCvgNdk0cb-Y"
   },
   "outputs": [],
   "source": [
    "import pandas as pd\n",
    "import requests\n",
    "import re\n",
    "import numpy as np\n",
    "import matplotlib.pyplot as plt\n"
   ]
  },
  {
   "cell_type": "code",
   "execution_count": 7,
   "metadata": {
    "id": "LvW-uxilcgF1"
   },
   "outputs": [],
   "source": [
    "content = requests.get('https://uk.wikipedia.org/wiki/Населення_України#Народжуваність')"
   ]
  },
  {
   "cell_type": "code",
   "execution_count": 8,
   "metadata": {
    "id": "0HVWMd-sdT-z"
   },
   "outputs": [],
   "source": [
    "data = pd.read_html(content.content, match=re.compile('Коефіцієнт народжуваності '))[0]"
   ]
  },
  {
   "cell_type": "code",
   "execution_count": 9,
   "metadata": {
    "colab": {
     "base_uri": "https://localhost:8080/",
     "height": 206
    },
    "id": "VN8Tf42Jguxh",
    "outputId": "b4ae8a86-da37-43ce-893e-c2fd3b61a52b"
   },
   "outputs": [
    {
     "data": {
      "text/html": [
       "<div>\n",
       "<style scoped>\n",
       "    .dataframe tbody tr th:only-of-type {\n",
       "        vertical-align: middle;\n",
       "    }\n",
       "\n",
       "    .dataframe tbody tr th {\n",
       "        vertical-align: top;\n",
       "    }\n",
       "\n",
       "    .dataframe thead th {\n",
       "        text-align: right;\n",
       "    }\n",
       "</style>\n",
       "<table border=\"1\" class=\"dataframe\">\n",
       "  <thead>\n",
       "    <tr style=\"text-align: right;\">\n",
       "      <th></th>\n",
       "      <th>Регіон</th>\n",
       "      <th>1950</th>\n",
       "      <th>1960</th>\n",
       "      <th>1970</th>\n",
       "      <th>1990</th>\n",
       "      <th>2000</th>\n",
       "      <th>2012</th>\n",
       "      <th>2014</th>\n",
       "      <th>2019</th>\n",
       "    </tr>\n",
       "  </thead>\n",
       "  <tbody>\n",
       "    <tr>\n",
       "      <th>0</th>\n",
       "      <td>Крим</td>\n",
       "      <td>230.0</td>\n",
       "      <td>206.0</td>\n",
       "      <td>160.0</td>\n",
       "      <td>130</td>\n",
       "      <td>73</td>\n",
       "      <td>126</td>\n",
       "      <td>—</td>\n",
       "      <td>—</td>\n",
       "    </tr>\n",
       "    <tr>\n",
       "      <th>1</th>\n",
       "      <td>Вінницька</td>\n",
       "      <td>224.0</td>\n",
       "      <td>192.0</td>\n",
       "      <td>142.0</td>\n",
       "      <td>124</td>\n",
       "      <td>84</td>\n",
       "      <td>112</td>\n",
       "      <td>109</td>\n",
       "      <td>76</td>\n",
       "    </tr>\n",
       "    <tr>\n",
       "      <th>2</th>\n",
       "      <td>Волинська</td>\n",
       "      <td>247.0</td>\n",
       "      <td>250.0</td>\n",
       "      <td>179.0</td>\n",
       "      <td>153</td>\n",
       "      <td>112</td>\n",
       "      <td>148</td>\n",
       "      <td>141</td>\n",
       "      <td>101</td>\n",
       "    </tr>\n",
       "    <tr>\n",
       "      <th>3</th>\n",
       "      <td>Дніпропетровська</td>\n",
       "      <td>204.0</td>\n",
       "      <td>204.0</td>\n",
       "      <td>151.0</td>\n",
       "      <td>123</td>\n",
       "      <td>71</td>\n",
       "      <td>112</td>\n",
       "      <td>111</td>\n",
       "      <td>71</td>\n",
       "    </tr>\n",
       "    <tr>\n",
       "      <th>4</th>\n",
       "      <td>Донецька</td>\n",
       "      <td>271.0</td>\n",
       "      <td>214.0</td>\n",
       "      <td>140.0</td>\n",
       "      <td>109</td>\n",
       "      <td>61</td>\n",
       "      <td>98</td>\n",
       "      <td>82</td>\n",
       "      <td>—</td>\n",
       "    </tr>\n",
       "  </tbody>\n",
       "</table>\n",
       "</div>"
      ],
      "text/plain": [
       "             Регіон   1950   1960   1970  1990  2000  2012 2014 2019\n",
       "0              Крим  230.0  206.0  160.0   130    73   126    —    —\n",
       "1         Вінницька  224.0  192.0  142.0   124    84   112  109   76\n",
       "2         Волинська  247.0  250.0  179.0   153   112   148  141  101\n",
       "3  Дніпропетровська  204.0  204.0  151.0   123    71   112  111   71\n",
       "4          Донецька  271.0  214.0  140.0   109    61    98   82    —"
      ]
     },
     "execution_count": 9,
     "metadata": {},
     "output_type": "execute_result"
    }
   ],
   "source": [
    "# Вывести первые строки таблицы с помощью метода head\n",
    "data.head()"
   ]
  },
  {
   "cell_type": "code",
   "execution_count": 10,
   "metadata": {
    "colab": {
     "base_uri": "https://localhost:8080/"
    },
    "id": "iVtqvrlTO3Rf",
    "outputId": "b37b25bd-a98f-4dae-95f4-078fdeb9f060"
   },
   "outputs": [
    {
     "data": {
      "text/plain": [
       "(28, 9)"
      ]
     },
     "execution_count": 10,
     "metadata": {},
     "output_type": "execute_result"
    }
   ],
   "source": [
    "# Определите количество строк и столбцов в датафрейме (атрибут shape)\n",
    "data.shape"
   ]
  },
  {
   "cell_type": "code",
   "execution_count": 11,
   "metadata": {
    "id": "rttHX3M2rqrG"
   },
   "outputs": [],
   "source": [
    "# Замените в таблице значения \"—\" на значения NaN\n",
    "data.replace({'—': np.NaN}, inplace=True)"
   ]
  },
  {
   "cell_type": "code",
   "execution_count": 12,
   "metadata": {
    "colab": {
     "base_uri": "https://localhost:8080/"
    },
    "id": "UFJn8M3isD5R",
    "outputId": "fe78b47a-4ed6-4a8b-fef0-6f026d3aec10"
   },
   "outputs": [
    {
     "data": {
      "text/plain": [
       "Регіон     object\n",
       "1950      float64\n",
       "1960      float64\n",
       "1970      float64\n",
       "1990        int64\n",
       "2000        int64\n",
       "2012        int64\n",
       "2014       object\n",
       "2019       object\n",
       "dtype: object"
      ]
     },
     "execution_count": 12,
     "metadata": {},
     "output_type": "execute_result"
    }
   ],
   "source": [
    "# Определите типы всех столбцов с помощью dataframe.dtypes\n",
    "data.dtypes"
   ]
  },
  {
   "cell_type": "code",
   "execution_count": 13,
   "metadata": {
    "id": "7UVhHczidx5R"
   },
   "outputs": [],
   "source": [
    "# Так як метод зчитав таблицю і не взяв \",\" до уваги, потрібно було всі значення поділити на 10\n",
    "# Замените типы не числовых колонок на числовые. Подсказка - это колонки где находился символ \"—\"\n",
    "data.iloc[:, 1:] = data.iloc[:, 1:].astype(float).apply(lambda x: x / 10)"
   ]
  },
  {
   "cell_type": "code",
   "execution_count": 14,
   "metadata": {
    "colab": {
     "base_uri": "https://localhost:8080/",
     "height": 927
    },
    "id": "y8Z_KRM1hmM8",
    "outputId": "88651b3e-a27c-4d3b-b8c4-a53e7f07fcca"
   },
   "outputs": [
    {
     "data": {
      "text/html": [
       "<div>\n",
       "<style scoped>\n",
       "    .dataframe tbody tr th:only-of-type {\n",
       "        vertical-align: middle;\n",
       "    }\n",
       "\n",
       "    .dataframe tbody tr th {\n",
       "        vertical-align: top;\n",
       "    }\n",
       "\n",
       "    .dataframe thead th {\n",
       "        text-align: right;\n",
       "    }\n",
       "</style>\n",
       "<table border=\"1\" class=\"dataframe\">\n",
       "  <thead>\n",
       "    <tr style=\"text-align: right;\">\n",
       "      <th></th>\n",
       "      <th>Регіон</th>\n",
       "      <th>1950</th>\n",
       "      <th>1960</th>\n",
       "      <th>1970</th>\n",
       "      <th>1990</th>\n",
       "      <th>2000</th>\n",
       "      <th>2012</th>\n",
       "      <th>2014</th>\n",
       "      <th>2019</th>\n",
       "    </tr>\n",
       "  </thead>\n",
       "  <tbody>\n",
       "    <tr>\n",
       "      <th>0</th>\n",
       "      <td>Крим</td>\n",
       "      <td>23.0</td>\n",
       "      <td>20.6</td>\n",
       "      <td>16.0</td>\n",
       "      <td>13.0</td>\n",
       "      <td>7.3</td>\n",
       "      <td>12.6</td>\n",
       "      <td>NaN</td>\n",
       "      <td>NaN</td>\n",
       "    </tr>\n",
       "    <tr>\n",
       "      <th>1</th>\n",
       "      <td>Вінницька</td>\n",
       "      <td>22.4</td>\n",
       "      <td>19.2</td>\n",
       "      <td>14.2</td>\n",
       "      <td>12.4</td>\n",
       "      <td>8.4</td>\n",
       "      <td>11.2</td>\n",
       "      <td>10.9</td>\n",
       "      <td>7.6</td>\n",
       "    </tr>\n",
       "    <tr>\n",
       "      <th>2</th>\n",
       "      <td>Волинська</td>\n",
       "      <td>24.7</td>\n",
       "      <td>25.0</td>\n",
       "      <td>17.9</td>\n",
       "      <td>15.3</td>\n",
       "      <td>11.2</td>\n",
       "      <td>14.8</td>\n",
       "      <td>14.1</td>\n",
       "      <td>10.1</td>\n",
       "    </tr>\n",
       "    <tr>\n",
       "      <th>3</th>\n",
       "      <td>Дніпропетровська</td>\n",
       "      <td>20.4</td>\n",
       "      <td>20.4</td>\n",
       "      <td>15.1</td>\n",
       "      <td>12.3</td>\n",
       "      <td>7.1</td>\n",
       "      <td>11.2</td>\n",
       "      <td>11.1</td>\n",
       "      <td>7.1</td>\n",
       "    </tr>\n",
       "    <tr>\n",
       "      <th>4</th>\n",
       "      <td>Донецька</td>\n",
       "      <td>27.1</td>\n",
       "      <td>21.4</td>\n",
       "      <td>14.0</td>\n",
       "      <td>10.9</td>\n",
       "      <td>6.1</td>\n",
       "      <td>9.8</td>\n",
       "      <td>8.2</td>\n",
       "      <td>NaN</td>\n",
       "    </tr>\n",
       "    <tr>\n",
       "      <th>5</th>\n",
       "      <td>Житомирська</td>\n",
       "      <td>26.1</td>\n",
       "      <td>22.3</td>\n",
       "      <td>15.9</td>\n",
       "      <td>12.9</td>\n",
       "      <td>8.9</td>\n",
       "      <td>12.2</td>\n",
       "      <td>12.0</td>\n",
       "      <td>7.9</td>\n",
       "    </tr>\n",
       "    <tr>\n",
       "      <th>6</th>\n",
       "      <td>Закарпатська</td>\n",
       "      <td>31.4</td>\n",
       "      <td>27.3</td>\n",
       "      <td>20.7</td>\n",
       "      <td>16.8</td>\n",
       "      <td>11.5</td>\n",
       "      <td>15.1</td>\n",
       "      <td>14.6</td>\n",
       "      <td>10.4</td>\n",
       "    </tr>\n",
       "    <tr>\n",
       "      <th>7</th>\n",
       "      <td>Запорізька</td>\n",
       "      <td>21.9</td>\n",
       "      <td>19.7</td>\n",
       "      <td>15.0</td>\n",
       "      <td>12.4</td>\n",
       "      <td>7.1</td>\n",
       "      <td>10.6</td>\n",
       "      <td>10.6</td>\n",
       "      <td>6.8</td>\n",
       "    </tr>\n",
       "    <tr>\n",
       "      <th>8</th>\n",
       "      <td>Івано-Франківська</td>\n",
       "      <td>24.3</td>\n",
       "      <td>24.8</td>\n",
       "      <td>18.2</td>\n",
       "      <td>15.5</td>\n",
       "      <td>10.3</td>\n",
       "      <td>12.4</td>\n",
       "      <td>12.2</td>\n",
       "      <td>8.8</td>\n",
       "    </tr>\n",
       "    <tr>\n",
       "      <th>9</th>\n",
       "      <td>Київська</td>\n",
       "      <td>20.4</td>\n",
       "      <td>18.9</td>\n",
       "      <td>15.6</td>\n",
       "      <td>12.3</td>\n",
       "      <td>7.3</td>\n",
       "      <td>12.2</td>\n",
       "      <td>12.1</td>\n",
       "      <td>8.0</td>\n",
       "    </tr>\n",
       "    <tr>\n",
       "      <th>10</th>\n",
       "      <td>Кіровоградська</td>\n",
       "      <td>21.6</td>\n",
       "      <td>17.1</td>\n",
       "      <td>14.5</td>\n",
       "      <td>12.6</td>\n",
       "      <td>7.9</td>\n",
       "      <td>11.0</td>\n",
       "      <td>10.8</td>\n",
       "      <td>6.8</td>\n",
       "    </tr>\n",
       "    <tr>\n",
       "      <th>11</th>\n",
       "      <td>Луганська</td>\n",
       "      <td>26.2</td>\n",
       "      <td>23.5</td>\n",
       "      <td>14.4</td>\n",
       "      <td>11.6</td>\n",
       "      <td>6.2</td>\n",
       "      <td>9.6</td>\n",
       "      <td>5.1</td>\n",
       "      <td>NaN</td>\n",
       "    </tr>\n",
       "    <tr>\n",
       "      <th>12</th>\n",
       "      <td>Львівська</td>\n",
       "      <td>23.4</td>\n",
       "      <td>24.0</td>\n",
       "      <td>17.1</td>\n",
       "      <td>14.0</td>\n",
       "      <td>9.1</td>\n",
       "      <td>11.9</td>\n",
       "      <td>11.9</td>\n",
       "      <td>8.7</td>\n",
       "    </tr>\n",
       "    <tr>\n",
       "      <th>13</th>\n",
       "      <td>Миколаївська</td>\n",
       "      <td>21.1</td>\n",
       "      <td>19.4</td>\n",
       "      <td>15.5</td>\n",
       "      <td>13.7</td>\n",
       "      <td>8.0</td>\n",
       "      <td>11.5</td>\n",
       "      <td>11.2</td>\n",
       "      <td>7.1</td>\n",
       "    </tr>\n",
       "    <tr>\n",
       "      <th>14</th>\n",
       "      <td>Одеська</td>\n",
       "      <td>24.1</td>\n",
       "      <td>19.2</td>\n",
       "      <td>14.8</td>\n",
       "      <td>12.6</td>\n",
       "      <td>8.0</td>\n",
       "      <td>12.7</td>\n",
       "      <td>12.3</td>\n",
       "      <td>8.8</td>\n",
       "    </tr>\n",
       "    <tr>\n",
       "      <th>15</th>\n",
       "      <td>Полтавська</td>\n",
       "      <td>18.6</td>\n",
       "      <td>16.3</td>\n",
       "      <td>13.1</td>\n",
       "      <td>11.8</td>\n",
       "      <td>7.0</td>\n",
       "      <td>9.9</td>\n",
       "      <td>10.0</td>\n",
       "      <td>6.5</td>\n",
       "    </tr>\n",
       "    <tr>\n",
       "      <th>16</th>\n",
       "      <td>Рівненська</td>\n",
       "      <td>26.9</td>\n",
       "      <td>26.7</td>\n",
       "      <td>19.3</td>\n",
       "      <td>15.8</td>\n",
       "      <td>11.8</td>\n",
       "      <td>15.9</td>\n",
       "      <td>14.8</td>\n",
       "      <td>10.7</td>\n",
       "    </tr>\n",
       "    <tr>\n",
       "      <th>17</th>\n",
       "      <td>Сумська</td>\n",
       "      <td>21.6</td>\n",
       "      <td>18.4</td>\n",
       "      <td>13.2</td>\n",
       "      <td>11.5</td>\n",
       "      <td>7.0</td>\n",
       "      <td>9.7</td>\n",
       "      <td>9.2</td>\n",
       "      <td>6.0</td>\n",
       "    </tr>\n",
       "    <tr>\n",
       "      <th>18</th>\n",
       "      <td>Тернопільська</td>\n",
       "      <td>21.3</td>\n",
       "      <td>21.6</td>\n",
       "      <td>15.7</td>\n",
       "      <td>14.2</td>\n",
       "      <td>9.2</td>\n",
       "      <td>11.3</td>\n",
       "      <td>10.9</td>\n",
       "      <td>7.6</td>\n",
       "    </tr>\n",
       "    <tr>\n",
       "      <th>19</th>\n",
       "      <td>Харківська</td>\n",
       "      <td>19.7</td>\n",
       "      <td>17.3</td>\n",
       "      <td>14.0</td>\n",
       "      <td>11.4</td>\n",
       "      <td>6.8</td>\n",
       "      <td>9.9</td>\n",
       "      <td>10.1</td>\n",
       "      <td>6.8</td>\n",
       "    </tr>\n",
       "    <tr>\n",
       "      <th>20</th>\n",
       "      <td>Херсонська</td>\n",
       "      <td>20.8</td>\n",
       "      <td>21.4</td>\n",
       "      <td>16.6</td>\n",
       "      <td>14.3</td>\n",
       "      <td>8.5</td>\n",
       "      <td>11.7</td>\n",
       "      <td>11.5</td>\n",
       "      <td>8.1</td>\n",
       "    </tr>\n",
       "    <tr>\n",
       "      <th>21</th>\n",
       "      <td>Хмельницька</td>\n",
       "      <td>23.4</td>\n",
       "      <td>19.8</td>\n",
       "      <td>14.8</td>\n",
       "      <td>12.9</td>\n",
       "      <td>8.5</td>\n",
       "      <td>11.3</td>\n",
       "      <td>11.2</td>\n",
       "      <td>7.9</td>\n",
       "    </tr>\n",
       "    <tr>\n",
       "      <th>22</th>\n",
       "      <td>Черкаська</td>\n",
       "      <td>20.5</td>\n",
       "      <td>17.9</td>\n",
       "      <td>14.4</td>\n",
       "      <td>12.3</td>\n",
       "      <td>7.5</td>\n",
       "      <td>10.0</td>\n",
       "      <td>9.8</td>\n",
       "      <td>6.4</td>\n",
       "    </tr>\n",
       "    <tr>\n",
       "      <th>23</th>\n",
       "      <td>Чернівецька</td>\n",
       "      <td>24.7</td>\n",
       "      <td>21.8</td>\n",
       "      <td>17.0</td>\n",
       "      <td>14.8</td>\n",
       "      <td>10.1</td>\n",
       "      <td>12.8</td>\n",
       "      <td>12.9</td>\n",
       "      <td>9.2</td>\n",
       "    </tr>\n",
       "    <tr>\n",
       "      <th>24</th>\n",
       "      <td>Чернігівська</td>\n",
       "      <td>22.0</td>\n",
       "      <td>18.3</td>\n",
       "      <td>12.7</td>\n",
       "      <td>10.8</td>\n",
       "      <td>6.9</td>\n",
       "      <td>9.4</td>\n",
       "      <td>9.0</td>\n",
       "      <td>6.1</td>\n",
       "    </tr>\n",
       "    <tr>\n",
       "      <th>25</th>\n",
       "      <td>Київ</td>\n",
       "      <td>NaN</td>\n",
       "      <td>17.4</td>\n",
       "      <td>15.9</td>\n",
       "      <td>12.0</td>\n",
       "      <td>7.3</td>\n",
       "      <td>12.0</td>\n",
       "      <td>12.1</td>\n",
       "      <td>11.0</td>\n",
       "    </tr>\n",
       "    <tr>\n",
       "      <th>26</th>\n",
       "      <td>Севастополь</td>\n",
       "      <td>NaN</td>\n",
       "      <td>NaN</td>\n",
       "      <td>NaN</td>\n",
       "      <td>12.5</td>\n",
       "      <td>7.0</td>\n",
       "      <td>12.0</td>\n",
       "      <td>NaN</td>\n",
       "      <td>NaN</td>\n",
       "    </tr>\n",
       "    <tr>\n",
       "      <th>27</th>\n",
       "      <td>Україна</td>\n",
       "      <td>22.8</td>\n",
       "      <td>20.5</td>\n",
       "      <td>15.2</td>\n",
       "      <td>12.6</td>\n",
       "      <td>7.8</td>\n",
       "      <td>11.4</td>\n",
       "      <td>11.1</td>\n",
       "      <td>8.1</td>\n",
       "    </tr>\n",
       "  </tbody>\n",
       "</table>\n",
       "</div>"
      ],
      "text/plain": [
       "               Регіон  1950  1960  1970  1990  2000  2012  2014  2019\n",
       "0                Крим  23.0  20.6  16.0  13.0   7.3  12.6   NaN   NaN\n",
       "1           Вінницька  22.4  19.2  14.2  12.4   8.4  11.2  10.9   7.6\n",
       "2           Волинська  24.7  25.0  17.9  15.3  11.2  14.8  14.1  10.1\n",
       "3    Дніпропетровська  20.4  20.4  15.1  12.3   7.1  11.2  11.1   7.1\n",
       "4            Донецька  27.1  21.4  14.0  10.9   6.1   9.8   8.2   NaN\n",
       "5         Житомирська  26.1  22.3  15.9  12.9   8.9  12.2  12.0   7.9\n",
       "6        Закарпатська  31.4  27.3  20.7  16.8  11.5  15.1  14.6  10.4\n",
       "7          Запорізька  21.9  19.7  15.0  12.4   7.1  10.6  10.6   6.8\n",
       "8   Івано-Франківська  24.3  24.8  18.2  15.5  10.3  12.4  12.2   8.8\n",
       "9            Київська  20.4  18.9  15.6  12.3   7.3  12.2  12.1   8.0\n",
       "10     Кіровоградська  21.6  17.1  14.5  12.6   7.9  11.0  10.8   6.8\n",
       "11          Луганська  26.2  23.5  14.4  11.6   6.2   9.6   5.1   NaN\n",
       "12          Львівська  23.4  24.0  17.1  14.0   9.1  11.9  11.9   8.7\n",
       "13       Миколаївська  21.1  19.4  15.5  13.7   8.0  11.5  11.2   7.1\n",
       "14            Одеська  24.1  19.2  14.8  12.6   8.0  12.7  12.3   8.8\n",
       "15         Полтавська  18.6  16.3  13.1  11.8   7.0   9.9  10.0   6.5\n",
       "16         Рівненська  26.9  26.7  19.3  15.8  11.8  15.9  14.8  10.7\n",
       "17            Сумська  21.6  18.4  13.2  11.5   7.0   9.7   9.2   6.0\n",
       "18      Тернопільська  21.3  21.6  15.7  14.2   9.2  11.3  10.9   7.6\n",
       "19         Харківська  19.7  17.3  14.0  11.4   6.8   9.9  10.1   6.8\n",
       "20         Херсонська  20.8  21.4  16.6  14.3   8.5  11.7  11.5   8.1\n",
       "21        Хмельницька  23.4  19.8  14.8  12.9   8.5  11.3  11.2   7.9\n",
       "22          Черкаська  20.5  17.9  14.4  12.3   7.5  10.0   9.8   6.4\n",
       "23        Чернівецька  24.7  21.8  17.0  14.8  10.1  12.8  12.9   9.2\n",
       "24       Чернігівська  22.0  18.3  12.7  10.8   6.9   9.4   9.0   6.1\n",
       "25               Київ   NaN  17.4  15.9  12.0   7.3  12.0  12.1  11.0\n",
       "26        Севастополь   NaN   NaN   NaN  12.5   7.0  12.0   NaN   NaN\n",
       "27            Україна  22.8  20.5  15.2  12.6   7.8  11.4  11.1   8.1"
      ]
     },
     "execution_count": 14,
     "metadata": {},
     "output_type": "execute_result"
    }
   ],
   "source": [
    "data"
   ]
  },
  {
   "cell_type": "code",
   "execution_count": 15,
   "metadata": {
    "colab": {
     "base_uri": "https://localhost:8080/"
    },
    "id": "FaqvJhNejFIV",
    "outputId": "6447f08a-b0d8-4bd5-e639-99b56678795b"
   },
   "outputs": [
    {
     "data": {
      "text/plain": [
       "Регіон    0\n",
       "1950      2\n",
       "1960      1\n",
       "1970      1\n",
       "1990      0\n",
       "2000      0\n",
       "2012      0\n",
       "2014      2\n",
       "2019      4\n",
       "dtype: int64"
      ]
     },
     "execution_count": 15,
     "metadata": {},
     "output_type": "execute_result"
    }
   ],
   "source": [
    "# Посчитайте, какая доля пропусков содержится в каждой колонке (используйте методы isnull и sum)\n",
    "data.isnull().sum()"
   ]
  },
  {
   "cell_type": "code",
   "execution_count": 16,
   "metadata": {
    "id": "ksb4z2aJkX4p"
   },
   "outputs": [],
   "source": [
    "# Удалите из таблицы данные по всей стране, последняя строчка таблицы\n",
    "data.drop([27], inplace=True)"
   ]
  },
  {
   "cell_type": "code",
   "execution_count": 17,
   "metadata": {
    "colab": {
     "base_uri": "https://localhost:8080/",
     "height": 895
    },
    "id": "Yl21kfuTk3AI",
    "outputId": "50ee8169-90c5-4842-bc4b-289dd905aa96"
   },
   "outputs": [
    {
     "data": {
      "text/html": [
       "<div>\n",
       "<style scoped>\n",
       "    .dataframe tbody tr th:only-of-type {\n",
       "        vertical-align: middle;\n",
       "    }\n",
       "\n",
       "    .dataframe tbody tr th {\n",
       "        vertical-align: top;\n",
       "    }\n",
       "\n",
       "    .dataframe thead th {\n",
       "        text-align: right;\n",
       "    }\n",
       "</style>\n",
       "<table border=\"1\" class=\"dataframe\">\n",
       "  <thead>\n",
       "    <tr style=\"text-align: right;\">\n",
       "      <th></th>\n",
       "      <th>Регіон</th>\n",
       "      <th>1950</th>\n",
       "      <th>1960</th>\n",
       "      <th>1970</th>\n",
       "      <th>1990</th>\n",
       "      <th>2000</th>\n",
       "      <th>2012</th>\n",
       "      <th>2014</th>\n",
       "      <th>2019</th>\n",
       "    </tr>\n",
       "  </thead>\n",
       "  <tbody>\n",
       "    <tr>\n",
       "      <th>0</th>\n",
       "      <td>Крим</td>\n",
       "      <td>23.0</td>\n",
       "      <td>20.6</td>\n",
       "      <td>16.0</td>\n",
       "      <td>13.0</td>\n",
       "      <td>7.3</td>\n",
       "      <td>12.6</td>\n",
       "      <td>NaN</td>\n",
       "      <td>NaN</td>\n",
       "    </tr>\n",
       "    <tr>\n",
       "      <th>1</th>\n",
       "      <td>Вінницька</td>\n",
       "      <td>22.4</td>\n",
       "      <td>19.2</td>\n",
       "      <td>14.2</td>\n",
       "      <td>12.4</td>\n",
       "      <td>8.4</td>\n",
       "      <td>11.2</td>\n",
       "      <td>10.9</td>\n",
       "      <td>7.6</td>\n",
       "    </tr>\n",
       "    <tr>\n",
       "      <th>2</th>\n",
       "      <td>Волинська</td>\n",
       "      <td>24.7</td>\n",
       "      <td>25.0</td>\n",
       "      <td>17.9</td>\n",
       "      <td>15.3</td>\n",
       "      <td>11.2</td>\n",
       "      <td>14.8</td>\n",
       "      <td>14.1</td>\n",
       "      <td>10.1</td>\n",
       "    </tr>\n",
       "    <tr>\n",
       "      <th>3</th>\n",
       "      <td>Дніпропетровська</td>\n",
       "      <td>20.4</td>\n",
       "      <td>20.4</td>\n",
       "      <td>15.1</td>\n",
       "      <td>12.3</td>\n",
       "      <td>7.1</td>\n",
       "      <td>11.2</td>\n",
       "      <td>11.1</td>\n",
       "      <td>7.1</td>\n",
       "    </tr>\n",
       "    <tr>\n",
       "      <th>4</th>\n",
       "      <td>Донецька</td>\n",
       "      <td>27.1</td>\n",
       "      <td>21.4</td>\n",
       "      <td>14.0</td>\n",
       "      <td>10.9</td>\n",
       "      <td>6.1</td>\n",
       "      <td>9.8</td>\n",
       "      <td>8.2</td>\n",
       "      <td>NaN</td>\n",
       "    </tr>\n",
       "    <tr>\n",
       "      <th>5</th>\n",
       "      <td>Житомирська</td>\n",
       "      <td>26.1</td>\n",
       "      <td>22.3</td>\n",
       "      <td>15.9</td>\n",
       "      <td>12.9</td>\n",
       "      <td>8.9</td>\n",
       "      <td>12.2</td>\n",
       "      <td>12.0</td>\n",
       "      <td>7.9</td>\n",
       "    </tr>\n",
       "    <tr>\n",
       "      <th>6</th>\n",
       "      <td>Закарпатська</td>\n",
       "      <td>31.4</td>\n",
       "      <td>27.3</td>\n",
       "      <td>20.7</td>\n",
       "      <td>16.8</td>\n",
       "      <td>11.5</td>\n",
       "      <td>15.1</td>\n",
       "      <td>14.6</td>\n",
       "      <td>10.4</td>\n",
       "    </tr>\n",
       "    <tr>\n",
       "      <th>7</th>\n",
       "      <td>Запорізька</td>\n",
       "      <td>21.9</td>\n",
       "      <td>19.7</td>\n",
       "      <td>15.0</td>\n",
       "      <td>12.4</td>\n",
       "      <td>7.1</td>\n",
       "      <td>10.6</td>\n",
       "      <td>10.6</td>\n",
       "      <td>6.8</td>\n",
       "    </tr>\n",
       "    <tr>\n",
       "      <th>8</th>\n",
       "      <td>Івано-Франківська</td>\n",
       "      <td>24.3</td>\n",
       "      <td>24.8</td>\n",
       "      <td>18.2</td>\n",
       "      <td>15.5</td>\n",
       "      <td>10.3</td>\n",
       "      <td>12.4</td>\n",
       "      <td>12.2</td>\n",
       "      <td>8.8</td>\n",
       "    </tr>\n",
       "    <tr>\n",
       "      <th>9</th>\n",
       "      <td>Київська</td>\n",
       "      <td>20.4</td>\n",
       "      <td>18.9</td>\n",
       "      <td>15.6</td>\n",
       "      <td>12.3</td>\n",
       "      <td>7.3</td>\n",
       "      <td>12.2</td>\n",
       "      <td>12.1</td>\n",
       "      <td>8.0</td>\n",
       "    </tr>\n",
       "    <tr>\n",
       "      <th>10</th>\n",
       "      <td>Кіровоградська</td>\n",
       "      <td>21.6</td>\n",
       "      <td>17.1</td>\n",
       "      <td>14.5</td>\n",
       "      <td>12.6</td>\n",
       "      <td>7.9</td>\n",
       "      <td>11.0</td>\n",
       "      <td>10.8</td>\n",
       "      <td>6.8</td>\n",
       "    </tr>\n",
       "    <tr>\n",
       "      <th>11</th>\n",
       "      <td>Луганська</td>\n",
       "      <td>26.2</td>\n",
       "      <td>23.5</td>\n",
       "      <td>14.4</td>\n",
       "      <td>11.6</td>\n",
       "      <td>6.2</td>\n",
       "      <td>9.6</td>\n",
       "      <td>5.1</td>\n",
       "      <td>NaN</td>\n",
       "    </tr>\n",
       "    <tr>\n",
       "      <th>12</th>\n",
       "      <td>Львівська</td>\n",
       "      <td>23.4</td>\n",
       "      <td>24.0</td>\n",
       "      <td>17.1</td>\n",
       "      <td>14.0</td>\n",
       "      <td>9.1</td>\n",
       "      <td>11.9</td>\n",
       "      <td>11.9</td>\n",
       "      <td>8.7</td>\n",
       "    </tr>\n",
       "    <tr>\n",
       "      <th>13</th>\n",
       "      <td>Миколаївська</td>\n",
       "      <td>21.1</td>\n",
       "      <td>19.4</td>\n",
       "      <td>15.5</td>\n",
       "      <td>13.7</td>\n",
       "      <td>8.0</td>\n",
       "      <td>11.5</td>\n",
       "      <td>11.2</td>\n",
       "      <td>7.1</td>\n",
       "    </tr>\n",
       "    <tr>\n",
       "      <th>14</th>\n",
       "      <td>Одеська</td>\n",
       "      <td>24.1</td>\n",
       "      <td>19.2</td>\n",
       "      <td>14.8</td>\n",
       "      <td>12.6</td>\n",
       "      <td>8.0</td>\n",
       "      <td>12.7</td>\n",
       "      <td>12.3</td>\n",
       "      <td>8.8</td>\n",
       "    </tr>\n",
       "    <tr>\n",
       "      <th>15</th>\n",
       "      <td>Полтавська</td>\n",
       "      <td>18.6</td>\n",
       "      <td>16.3</td>\n",
       "      <td>13.1</td>\n",
       "      <td>11.8</td>\n",
       "      <td>7.0</td>\n",
       "      <td>9.9</td>\n",
       "      <td>10.0</td>\n",
       "      <td>6.5</td>\n",
       "    </tr>\n",
       "    <tr>\n",
       "      <th>16</th>\n",
       "      <td>Рівненська</td>\n",
       "      <td>26.9</td>\n",
       "      <td>26.7</td>\n",
       "      <td>19.3</td>\n",
       "      <td>15.8</td>\n",
       "      <td>11.8</td>\n",
       "      <td>15.9</td>\n",
       "      <td>14.8</td>\n",
       "      <td>10.7</td>\n",
       "    </tr>\n",
       "    <tr>\n",
       "      <th>17</th>\n",
       "      <td>Сумська</td>\n",
       "      <td>21.6</td>\n",
       "      <td>18.4</td>\n",
       "      <td>13.2</td>\n",
       "      <td>11.5</td>\n",
       "      <td>7.0</td>\n",
       "      <td>9.7</td>\n",
       "      <td>9.2</td>\n",
       "      <td>6.0</td>\n",
       "    </tr>\n",
       "    <tr>\n",
       "      <th>18</th>\n",
       "      <td>Тернопільська</td>\n",
       "      <td>21.3</td>\n",
       "      <td>21.6</td>\n",
       "      <td>15.7</td>\n",
       "      <td>14.2</td>\n",
       "      <td>9.2</td>\n",
       "      <td>11.3</td>\n",
       "      <td>10.9</td>\n",
       "      <td>7.6</td>\n",
       "    </tr>\n",
       "    <tr>\n",
       "      <th>19</th>\n",
       "      <td>Харківська</td>\n",
       "      <td>19.7</td>\n",
       "      <td>17.3</td>\n",
       "      <td>14.0</td>\n",
       "      <td>11.4</td>\n",
       "      <td>6.8</td>\n",
       "      <td>9.9</td>\n",
       "      <td>10.1</td>\n",
       "      <td>6.8</td>\n",
       "    </tr>\n",
       "    <tr>\n",
       "      <th>20</th>\n",
       "      <td>Херсонська</td>\n",
       "      <td>20.8</td>\n",
       "      <td>21.4</td>\n",
       "      <td>16.6</td>\n",
       "      <td>14.3</td>\n",
       "      <td>8.5</td>\n",
       "      <td>11.7</td>\n",
       "      <td>11.5</td>\n",
       "      <td>8.1</td>\n",
       "    </tr>\n",
       "    <tr>\n",
       "      <th>21</th>\n",
       "      <td>Хмельницька</td>\n",
       "      <td>23.4</td>\n",
       "      <td>19.8</td>\n",
       "      <td>14.8</td>\n",
       "      <td>12.9</td>\n",
       "      <td>8.5</td>\n",
       "      <td>11.3</td>\n",
       "      <td>11.2</td>\n",
       "      <td>7.9</td>\n",
       "    </tr>\n",
       "    <tr>\n",
       "      <th>22</th>\n",
       "      <td>Черкаська</td>\n",
       "      <td>20.5</td>\n",
       "      <td>17.9</td>\n",
       "      <td>14.4</td>\n",
       "      <td>12.3</td>\n",
       "      <td>7.5</td>\n",
       "      <td>10.0</td>\n",
       "      <td>9.8</td>\n",
       "      <td>6.4</td>\n",
       "    </tr>\n",
       "    <tr>\n",
       "      <th>23</th>\n",
       "      <td>Чернівецька</td>\n",
       "      <td>24.7</td>\n",
       "      <td>21.8</td>\n",
       "      <td>17.0</td>\n",
       "      <td>14.8</td>\n",
       "      <td>10.1</td>\n",
       "      <td>12.8</td>\n",
       "      <td>12.9</td>\n",
       "      <td>9.2</td>\n",
       "    </tr>\n",
       "    <tr>\n",
       "      <th>24</th>\n",
       "      <td>Чернігівська</td>\n",
       "      <td>22.0</td>\n",
       "      <td>18.3</td>\n",
       "      <td>12.7</td>\n",
       "      <td>10.8</td>\n",
       "      <td>6.9</td>\n",
       "      <td>9.4</td>\n",
       "      <td>9.0</td>\n",
       "      <td>6.1</td>\n",
       "    </tr>\n",
       "    <tr>\n",
       "      <th>25</th>\n",
       "      <td>Київ</td>\n",
       "      <td>NaN</td>\n",
       "      <td>17.4</td>\n",
       "      <td>15.9</td>\n",
       "      <td>12.0</td>\n",
       "      <td>7.3</td>\n",
       "      <td>12.0</td>\n",
       "      <td>12.1</td>\n",
       "      <td>11.0</td>\n",
       "    </tr>\n",
       "    <tr>\n",
       "      <th>26</th>\n",
       "      <td>Севастополь</td>\n",
       "      <td>NaN</td>\n",
       "      <td>NaN</td>\n",
       "      <td>NaN</td>\n",
       "      <td>12.5</td>\n",
       "      <td>7.0</td>\n",
       "      <td>12.0</td>\n",
       "      <td>NaN</td>\n",
       "      <td>NaN</td>\n",
       "    </tr>\n",
       "  </tbody>\n",
       "</table>\n",
       "</div>"
      ],
      "text/plain": [
       "               Регіон  1950  1960  1970  1990  2000  2012  2014  2019\n",
       "0                Крим  23.0  20.6  16.0  13.0   7.3  12.6   NaN   NaN\n",
       "1           Вінницька  22.4  19.2  14.2  12.4   8.4  11.2  10.9   7.6\n",
       "2           Волинська  24.7  25.0  17.9  15.3  11.2  14.8  14.1  10.1\n",
       "3    Дніпропетровська  20.4  20.4  15.1  12.3   7.1  11.2  11.1   7.1\n",
       "4            Донецька  27.1  21.4  14.0  10.9   6.1   9.8   8.2   NaN\n",
       "5         Житомирська  26.1  22.3  15.9  12.9   8.9  12.2  12.0   7.9\n",
       "6        Закарпатська  31.4  27.3  20.7  16.8  11.5  15.1  14.6  10.4\n",
       "7          Запорізька  21.9  19.7  15.0  12.4   7.1  10.6  10.6   6.8\n",
       "8   Івано-Франківська  24.3  24.8  18.2  15.5  10.3  12.4  12.2   8.8\n",
       "9            Київська  20.4  18.9  15.6  12.3   7.3  12.2  12.1   8.0\n",
       "10     Кіровоградська  21.6  17.1  14.5  12.6   7.9  11.0  10.8   6.8\n",
       "11          Луганська  26.2  23.5  14.4  11.6   6.2   9.6   5.1   NaN\n",
       "12          Львівська  23.4  24.0  17.1  14.0   9.1  11.9  11.9   8.7\n",
       "13       Миколаївська  21.1  19.4  15.5  13.7   8.0  11.5  11.2   7.1\n",
       "14            Одеська  24.1  19.2  14.8  12.6   8.0  12.7  12.3   8.8\n",
       "15         Полтавська  18.6  16.3  13.1  11.8   7.0   9.9  10.0   6.5\n",
       "16         Рівненська  26.9  26.7  19.3  15.8  11.8  15.9  14.8  10.7\n",
       "17            Сумська  21.6  18.4  13.2  11.5   7.0   9.7   9.2   6.0\n",
       "18      Тернопільська  21.3  21.6  15.7  14.2   9.2  11.3  10.9   7.6\n",
       "19         Харківська  19.7  17.3  14.0  11.4   6.8   9.9  10.1   6.8\n",
       "20         Херсонська  20.8  21.4  16.6  14.3   8.5  11.7  11.5   8.1\n",
       "21        Хмельницька  23.4  19.8  14.8  12.9   8.5  11.3  11.2   7.9\n",
       "22          Черкаська  20.5  17.9  14.4  12.3   7.5  10.0   9.8   6.4\n",
       "23        Чернівецька  24.7  21.8  17.0  14.8  10.1  12.8  12.9   9.2\n",
       "24       Чернігівська  22.0  18.3  12.7  10.8   6.9   9.4   9.0   6.1\n",
       "25               Київ   NaN  17.4  15.9  12.0   7.3  12.0  12.1  11.0\n",
       "26        Севастополь   NaN   NaN   NaN  12.5   7.0  12.0   NaN   NaN"
      ]
     },
     "execution_count": 17,
     "metadata": {},
     "output_type": "execute_result"
    }
   ],
   "source": [
    "data"
   ]
  },
  {
   "cell_type": "code",
   "execution_count": 18,
   "metadata": {
    "id": "76RR5rhplPBe"
   },
   "outputs": [],
   "source": [
    "# Варіант1\n",
    "# Замените отсутствующие данные в столбцах средними значениями по этим столбцам (метод fillna)\n",
    "data.iloc[:, 1:] = data.iloc[:, 1: ].fillna(dict(zip(data.columns[1:], map(lambda column: np.mean(data[column]), data.columns[1:]))))"
   ]
  },
  {
   "cell_type": "code",
   "execution_count": 19,
   "metadata": {
    "id": "IsQBJbrgn3ah"
   },
   "outputs": [],
   "source": [
    "# Варіант 2\n",
    "# Замените отсутствующие данные в столбцах средними значениями по этим столбцам (метод fillna)\n",
    "# data.fillna(data.mean())"
   ]
  },
  {
   "cell_type": "code",
   "execution_count": 20,
   "metadata": {
    "colab": {
     "base_uri": "https://localhost:8080/"
    },
    "id": "QOdylwZYl9Em",
    "outputId": "7d01a231-cb99-4686-c6cb-35da4451e8f3"
   },
   "outputs": [
    {
     "data": {
      "text/plain": [
       "0                  Крим\n",
       "2             Волинська\n",
       "4              Донецька\n",
       "6          Закарпатська\n",
       "8     Івано-Франківська\n",
       "11            Луганська\n",
       "12            Львівська\n",
       "14              Одеська\n",
       "16           Рівненська\n",
       "20           Херсонська\n",
       "23          Чернівецька\n",
       "25                 Київ\n",
       "26          Севастополь\n",
       "Name: Регіон, dtype: object"
      ]
     },
     "execution_count": 20,
     "metadata": {},
     "output_type": "execute_result"
    }
   ],
   "source": [
    "# Получите список регионов, где уровень рождаемости в 2019 году был выше среднего по Украине\n",
    "data[data['2019'] > data['2019'].mean()]['Регіон']"
   ]
  },
  {
   "cell_type": "code",
   "execution_count": 21,
   "metadata": {
    "colab": {
     "base_uri": "https://localhost:8080/"
    },
    "id": "POa37zP0mdOr",
    "outputId": "5b9e4a0c-42f7-457e-ae5c-dc3bc313b034"
   },
   "outputs": [
    {
     "data": {
      "text/plain": [
       "Регіон    Чернігівська\n",
       "2014              14.8\n",
       "dtype: object"
      ]
     },
     "execution_count": 21,
     "metadata": {},
     "output_type": "execute_result"
    }
   ],
   "source": [
    "# В каком регионе была самая высокая рождаемость в 2014 году?\n",
    "data[['Регіон','2014']].max()"
   ]
  },
  {
   "cell_type": "code",
   "execution_count": 22,
   "metadata": {
    "colab": {
     "base_uri": "https://localhost:8080/",
     "height": 283
    },
    "id": "ut5hnQGimyM6",
    "outputId": "55995bb8-4761-458c-8cf7-8c8c404be73a"
   },
   "outputs": [
    {
     "data": {
      "text/plain": [
       "<AxesSubplot:>"
      ]
     },
     "execution_count": 22,
     "metadata": {},
     "output_type": "execute_result"
    },
    {
     "data": {
      "image/png": "[encoded data removed]",
      "text/plain": [
       "<Figure size 432x288 with 1 Axes>"
      ]
     },
     "metadata": {
      "needs_background": "light"
     },
     "output_type": "display_data"
    }
   ],
   "source": [
    "# Постройте столбцовую диаграмму рождаемости по регионам в 2019 году\n",
    "data['2019'].hist()"
   ]
  },
  {
   "cell_type": "markdown",
   "metadata": {
    "id": "MoUe57lfnh-Y"
   },
   "source": [
    "# Модуль 3"
   ]
  },
  {
   "cell_type": "code",
   "execution_count": 23,
   "metadata": {},
   "outputs": [],
   "source": [
    "data.columns = data.columns.map(lambda x: 'region' if x == \"Регіон\" else x)"
   ]
  },
  {
   "cell_type": "code",
   "execution_count": 24,
   "metadata": {},
   "outputs": [
    {
     "data": {
      "text/plain": [
       "Index(['region', '1950', '1960', '1970', '1990', '2000', '2012', '2014',\n",
       "       '2019'],\n",
       "      dtype='object')"
      ]
     },
     "execution_count": 24,
     "metadata": {},
     "output_type": "execute_result"
    }
   ],
   "source": [
    "data.columns"
   ]
  },
  {
   "cell_type": "code",
   "execution_count": 25,
   "metadata": {},
   "outputs": [
    {
     "data": {
      "text/plain": [
       "<AxesSubplot:>"
      ]
     },
     "execution_count": 25,
     "metadata": {},
     "output_type": "execute_result"
    },
    {
     "data": {
      "image/png": "[encoded data removed]",
      "text/plain": [
       "<Figure size 432x288 with 1 Axes>"
      ]
     },
     "metadata": {
      "needs_background": "light"
     },
     "output_type": "display_data"
    }
   ],
   "source": [
    "data[data['region'] == 'Київ'].plot(kind='bar')"
   ]
  },
  {
   "cell_type": "code",
   "execution_count": 88,
   "metadata": {},
   "outputs": [
    {
     "data": {
      "text/plain": [
       "<AxesSubplot:>"
      ]
     },
     "execution_count": 88,
     "metadata": {},
     "output_type": "execute_result"
    },
    {
     "data": {
      "image/png": "[encoded data removed]",
      "text/plain": [
       "<Figure size 432x288 with 1 Axes>"
      ]
     },
     "metadata": {
      "needs_background": "light"
     },
     "output_type": "display_data"
    }
   ],
   "source": [
    "data[data['region'] == 'Крим'].plot(kind='bar')"
   ]
  },
  {
   "cell_type": "code",
   "execution_count": 87,
   "metadata": {},
   "outputs": [
    {
     "data": {
      "text/plain": [
       "[<matplotlib.lines.Line2D at 0x1add0fe8280>]"
      ]
     },
     "execution_count": 87,
     "metadata": {},
     "output_type": "execute_result"
    },
    {
     "data": {
      "image/png": "[encoded data removed]",
      "text/plain": [
       "<Figure size 432x288 with 1 Axes>"
      ]
     },
     "metadata": {
      "needs_background": "light"
     },
     "output_type": "display_data"
    }
   ],
   "source": [
    "krym = data.loc[0][1:]\n",
    "plt.plot(krym)"
   ]
  }
 ],
 "metadata": {
  "colab": {
   "collapsed_sections": [],
   "name": "Hw2.1",
   "provenance": []
  },
  "kernelspec": {
   "display_name": "Python 3 (ipykernel)",
   "language": "python",
   "name": "python3"
  },
  "language_info": {
   "codemirror_mode": {
    "name": "ipython",
    "version": 3
   },
   "file_extension": ".py",
   "mimetype": "text/x-python",
   "name": "python",
   "nbconvert_exporter": "python",
   "pygments_lexer": "ipython3",
   "version": "3.9.7"
  }
 },
 "nbformat": 4,
 "nbformat_minor": 1
}
