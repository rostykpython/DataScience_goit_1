{
 "cells": [
  {
   "cell_type": "code",
   "execution_count": 1,
   "id": "29e596d7",
   "metadata": {},
   "outputs": [],
   "source": [
    "import pandas as pd\n",
    "import numpy as np"
   ]
  },
  {
   "cell_type": "code",
   "execution_count": 2,
   "id": "179ba30c",
   "metadata": {},
   "outputs": [],
   "source": [
    "data = pd.read_csv('./bestsellers with categories.csv')"
   ]
  },
  {
   "cell_type": "code",
   "execution_count": 3,
   "id": "3d1fe579",
   "metadata": {},
   "outputs": [
    {
     "data": {
      "text/plain": "                                                Name  \\\n0                      10-Day Green Smoothie Cleanse   \n1                                  11/22/63: A Novel   \n2            12 Rules for Life: An Antidote to Chaos   \n3                             1984 (Signet Classics)   \n4  5,000 Awesome Facts (About Everything!) (Natio...   \n\n                     Author  User Rating  Reviews  Price  Year        Genre  \n0                  JJ Smith          4.7    17350      8  2016  Non Fiction  \n1              Stephen King          4.6     2052     22  2011      Fiction  \n2        Jordan B. Peterson          4.7    18979     15  2018  Non Fiction  \n3             George Orwell          4.7    21424      6  2017      Fiction  \n4  National Geographic Kids          4.8     7665     12  2019  Non Fiction  ",
      "text/html": "<div>\n<style scoped>\n    .dataframe tbody tr th:only-of-type {\n        vertical-align: middle;\n    }\n\n    .dataframe tbody tr th {\n        vertical-align: top;\n    }\n\n    .dataframe thead th {\n        text-align: right;\n    }\n</style>\n<table border=\"1\" class=\"dataframe\">\n  <thead>\n    <tr style=\"text-align: right;\">\n      <th></th>\n      <th>Name</th>\n      <th>Author</th>\n      <th>User Rating</th>\n      <th>Reviews</th>\n      <th>Price</th>\n      <th>Year</th>\n      <th>Genre</th>\n    </tr>\n  </thead>\n  <tbody>\n    <tr>\n      <th>0</th>\n      <td>10-Day Green Smoothie Cleanse</td>\n      <td>JJ Smith</td>\n      <td>4.7</td>\n      <td>17350</td>\n      <td>8</td>\n      <td>2016</td>\n      <td>Non Fiction</td>\n    </tr>\n    <tr>\n      <th>1</th>\n      <td>11/22/63: A Novel</td>\n      <td>Stephen King</td>\n      <td>4.6</td>\n      <td>2052</td>\n      <td>22</td>\n      <td>2011</td>\n      <td>Fiction</td>\n    </tr>\n    <tr>\n      <th>2</th>\n      <td>12 Rules for Life: An Antidote to Chaos</td>\n      <td>Jordan B. Peterson</td>\n      <td>4.7</td>\n      <td>18979</td>\n      <td>15</td>\n      <td>2018</td>\n      <td>Non Fiction</td>\n    </tr>\n    <tr>\n      <th>3</th>\n      <td>1984 (Signet Classics)</td>\n      <td>George Orwell</td>\n      <td>4.7</td>\n      <td>21424</td>\n      <td>6</td>\n      <td>2017</td>\n      <td>Fiction</td>\n    </tr>\n    <tr>\n      <th>4</th>\n      <td>5,000 Awesome Facts (About Everything!) (Natio...</td>\n      <td>National Geographic Kids</td>\n      <td>4.8</td>\n      <td>7665</td>\n      <td>12</td>\n      <td>2019</td>\n      <td>Non Fiction</td>\n    </tr>\n  </tbody>\n</table>\n</div>"
     },
     "execution_count": 3,
     "metadata": {},
     "output_type": "execute_result"
    }
   ],
   "source": [
    "data.head()"
   ]
  },
  {
   "cell_type": "code",
   "execution_count": 4,
   "id": "f14cdf58",
   "metadata": {},
   "outputs": [
    {
     "data": {
      "text/plain": "(550, 7)"
     },
     "execution_count": 4,
     "metadata": {},
     "output_type": "execute_result"
    }
   ],
   "source": [
    "data.shape"
   ]
  },
  {
   "cell_type": "markdown",
   "id": "20d564c1",
   "metadata": {},
   "source": [
    "### О скольки книгах хранит данные датасет?  \n",
    "550"
   ]
  },
  {
   "cell_type": "code",
   "execution_count": 5,
   "id": "95860b89",
   "metadata": {},
   "outputs": [],
   "source": [
    "data.columns = ['name', 'author', 'user_rating', 'reviews', 'price', 'year', 'genre']"
   ]
  },
  {
   "cell_type": "code",
   "execution_count": 6,
   "id": "d28ed878",
   "metadata": {},
   "outputs": [
    {
     "data": {
      "text/plain": "name           0\nauthor         0\nuser_rating    0\nreviews        0\nprice          0\nyear           0\ngenre          0\ndtype: int64"
     },
     "execution_count": 6,
     "metadata": {},
     "output_type": "execute_result"
    }
   ],
   "source": [
    "data.isna().sum()"
   ]
  },
  {
   "cell_type": "markdown",
   "id": "a3863f2e",
   "metadata": {},
   "source": [
    "### Есть ли в каких либо переменных пропуски? \n",
    "Ні"
   ]
  },
  {
   "cell_type": "code",
   "execution_count": 7,
   "id": "02f0656a",
   "metadata": {},
   "outputs": [
    {
     "data": {
      "text/plain": "array(['Non Fiction', 'Fiction'], dtype=object)"
     },
     "execution_count": 7,
     "metadata": {},
     "output_type": "execute_result"
    }
   ],
   "source": [
    "data['genre'].unique()"
   ]
  },
  {
   "cell_type": "markdown",
   "id": "3be46ab9",
   "metadata": {},
   "source": [
    "### Какие есть уникальные жанры?  \n",
    "'Fiction', 'Non Fiction'"
   ]
  },
  {
   "cell_type": "code",
   "execution_count": 8,
   "id": "ab672f58",
   "metadata": {},
   "outputs": [
    {
     "data": {
      "text/plain": "<AxesSubplot:>"
     },
     "execution_count": 8,
     "metadata": {},
     "output_type": "execute_result"
    },
    {
     "data": {
      "text/plain": "<Figure size 432x288 with 1 Axes>",
      "image/png": "[encoded data removed]"
     },
     "metadata": {
      "needs_background": "light"
     },
     "output_type": "display_data"
    }
   ],
   "source": [
    "data['price'].hist()"
   ]
  },
  {
   "cell_type": "code",
   "execution_count": 9,
   "id": "a72e3835",
   "metadata": {},
   "outputs": [
    {
     "data": {
      "text/plain": "count    550.000000\nmean      13.100000\nstd       10.842262\nmin        0.000000\n25%        7.000000\n50%       11.000000\n75%       16.000000\nmax      105.000000\nName: price, dtype: float64"
     },
     "execution_count": 9,
     "metadata": {},
     "output_type": "execute_result"
    }
   ],
   "source": [
    "data['price'].describe()"
   ]
  },
  {
   "cell_type": "code",
   "execution_count": 10,
   "id": "51c0cbcf",
   "metadata": {},
   "outputs": [
    {
     "data": {
      "text/plain": "11.0"
     },
     "execution_count": 10,
     "metadata": {},
     "output_type": "execute_result"
    }
   ],
   "source": [
    "np.median(data['price'])"
   ]
  },
  {
   "cell_type": "markdown",
   "id": "3163c1ca",
   "metadata": {},
   "source": [
    "### Ответ: Mаксимальная цена? 105\n",
    "### Ответ: Минимальная цена? 0\n",
    "### Ответ: Средняя цена? 13.1\n",
    "### Ответ: Медианная цена? 11"
   ]
  },
  {
   "cell_type": "code",
   "execution_count": 11,
   "id": "0cae889a",
   "metadata": {},
   "outputs": [
    {
     "data": {
      "text/plain": "4.9"
     },
     "execution_count": 11,
     "metadata": {},
     "output_type": "execute_result"
    }
   ],
   "source": [
    "max_rating = data['user_rating'].max();\n",
    "max_rating"
   ]
  },
  {
   "cell_type": "markdown",
   "id": "758ca2ab",
   "metadata": {},
   "source": [
    "### Ответ: Какой рейтинг в датасете наивысший? Ответ: 4.9"
   ]
  },
  {
   "cell_type": "code",
   "execution_count": 12,
   "id": "b8bc2434",
   "metadata": {},
   "outputs": [
    {
     "data": {
      "text/plain": "52"
     },
     "execution_count": 12,
     "metadata": {},
     "output_type": "execute_result"
    }
   ],
   "source": [
    "data[data['user_rating'] == max_rating].shape[0]"
   ]
  },
  {
   "cell_type": "markdown",
   "id": "83ce90a8",
   "metadata": {},
   "source": [
    "### Ответ: Сколько книг имеют такой рейтинг? Ответ: 52"
   ]
  },
  {
   "cell_type": "code",
   "execution_count": 13,
   "id": "0723a6d8",
   "metadata": {},
   "outputs": [
    {
     "data": {
      "text/plain": "534    Where the Crawdads Sing\nName: name, dtype: object"
     },
     "execution_count": 13,
     "metadata": {},
     "output_type": "execute_result"
    }
   ],
   "source": [
    "data[data['reviews'] == data['reviews'].max()]['name']"
   ]
  },
  {
   "cell_type": "markdown",
   "id": "5cba45c4",
   "metadata": {},
   "source": [
    "### Ответ: У какой книги больше всего отзывов? Ответ: Where the Crawdads Sing"
   ]
  },
  {
   "cell_type": "code",
   "execution_count": 14,
   "id": "33467ea1",
   "metadata": {},
   "outputs": [
    {
     "data": {
      "text/plain": "name     Wonder\nprice        46\ndtype: object"
     },
     "execution_count": 14,
     "metadata": {},
     "output_type": "execute_result"
    }
   ],
   "source": [
    "data[data['year'] == 2015][['name','price']].max()"
   ]
  },
  {
   "cell_type": "markdown",
   "id": "4cc667b8",
   "metadata": {},
   "source": [
    "### Из тех книг, что попали в Топ-50 в 2015 году, какая книга самая дорогая (можно использовать промежуточный датафрейм)? Ответ: Wonder"
   ]
  },
  {
   "cell_type": "code",
   "execution_count": 15,
   "id": "7418b5d1",
   "metadata": {},
   "outputs": [
    {
     "data": {
      "text/plain": "20"
     },
     "execution_count": 15,
     "metadata": {},
     "output_type": "execute_result"
    }
   ],
   "source": [
    "data[(data['year'] == 2010) & (data['genre'] == 'Fiction')].shape[0]"
   ]
  },
  {
   "cell_type": "markdown",
   "id": "31ea821b",
   "metadata": {},
   "source": [
    "### Сколько книг жанра Fiction попали в Топ-50 в 2010 году (используйте &)? Ответ: 20"
   ]
  },
  {
   "cell_type": "code",
   "execution_count": 16,
   "id": "87a43652",
   "metadata": {},
   "outputs": [
    {
     "data": {
      "text/plain": "1"
     },
     "execution_count": 16,
     "metadata": {},
     "output_type": "execute_result"
    }
   ],
   "source": [
    "data[(data['user_rating'] == 4.9) & (data['year'].isin([2010, 2011]))].shape[0]"
   ]
  },
  {
   "cell_type": "markdown",
   "id": "cc137e26",
   "metadata": {},
   "source": [
    "### Сколько книг c рейтингом 4.9 попало в рейтинг в 2010 и 2011 годах (используйте | или функцию isin)? Ответ:  1"
   ]
  },
  {
   "cell_type": "code",
   "execution_count": 17,
   "id": "f9d84403",
   "metadata": {},
   "outputs": [],
   "source": [
    "data.sort_values('price', inplace=True)"
   ]
  },
  {
   "cell_type": "code",
   "execution_count": 18,
   "id": "6dec3dbf",
   "metadata": {},
   "outputs": [
    {
     "data": {
      "text/plain": "                                                  name  \\\n507                              To Kill a Mockingbird   \n54   Creative Haven Creative Cats Coloring Book (Ad...   \n123                               Giraffes Can't Dance   \n210                      Laugh-Out-Loud Jokes for Kids   \n111                                    First 100 Words   \n206                         Knock-Knock Jokes for Kids   \n89   Dover Creative Haven Art Nouveau Animal Design...   \n224                                   Love You Forever   \n201  Killing Reagan: The Violent Assault That Chang...   \n55   Creative Haven Owls Coloring Book (Adult Color...   \n28                        Baby Touch and Feel: Animals   \n478                        The Very Hungry Caterpillar   \n63                      Dear Zoo: A Lift-the-Flap Book   \n17      Adult Coloring Book: Stress Relieving Patterns   \n16   Adult Coloring Book: Stress Relieving Animal D...   \n376  The Four Agreements: A Practical Guide to Pers...   \n253              Old School (Diary of a Wimpy Kid #10)   \n191  Jesus Calling: Enjoying Peace in His Presence ...   \n350                          The Book with No Pictures   \n325  The 5 Love Languages: The Secret to Love that ...   \n248                          Oh, the Places You'll Go!   \n18   Adult Coloring Books: A Coloring Book for Adul...   \n\n                        author  user_rating  reviews  price  year        genre  \n507                 Harper Lee          4.8    26234      0  2015      Fiction  \n54             Marjorie Sarnat          4.8     4022      4  2015  Non Fiction  \n123              Giles Andreae          4.8    14038      4  2015      Fiction  \n210                Rob Elliott          4.6     6990      4  2015  Non Fiction  \n111               Roger Priddy          4.7    17323      4  2015  Non Fiction  \n206                Rob Elliott          4.5     3673      4  2015  Non Fiction  \n89                 Marty Noble          4.6     2134      5  2015  Non Fiction  \n224              Robert Munsch          4.8    18613      5  2015      Fiction  \n201              Bill O'Reilly          4.6     5235      5  2015  Non Fiction  \n55             Marjorie Sarnat          4.8     3871      5  2015  Non Fiction  \n28                          DK          4.6     5360      5  2015  Non Fiction  \n478                 Eric Carle          4.9    19546      5  2015      Fiction  \n63                Rod Campbell          4.8    10922      5  2015      Fiction  \n17          Blue Star Coloring          4.4     2951      6  2015  Non Fiction  \n16          Blue Star Coloring          4.6     2925      6  2015  Non Fiction  \n376            Don Miguel Ruiz          4.7    23308      6  2015  Non Fiction  \n253                Jeff Kinney          4.8     6169      7  2015      Fiction  \n191                Sarah Young          4.9    19576      8  2015  Non Fiction  \n350                B. J. Novak          4.8     8081      8  2015      Fiction  \n325               Gary Chapman          4.8    25554      8  2015  Non Fiction  \n248                  Dr. Seuss          4.9    21834      8  2015      Fiction  \n18   Coloring Books for Adults          4.5     2426      8  2015  Non Fiction  ",
      "text/html": "<div>\n<style scoped>\n    .dataframe tbody tr th:only-of-type {\n        vertical-align: middle;\n    }\n\n    .dataframe tbody tr th {\n        vertical-align: top;\n    }\n\n    .dataframe thead th {\n        text-align: right;\n    }\n</style>\n<table border=\"1\" class=\"dataframe\">\n  <thead>\n    <tr style=\"text-align: right;\">\n      <th></th>\n      <th>name</th>\n      <th>author</th>\n      <th>user_rating</th>\n      <th>reviews</th>\n      <th>price</th>\n      <th>year</th>\n      <th>genre</th>\n    </tr>\n  </thead>\n  <tbody>\n    <tr>\n      <th>507</th>\n      <td>To Kill a Mockingbird</td>\n      <td>Harper Lee</td>\n      <td>4.8</td>\n      <td>26234</td>\n      <td>0</td>\n      <td>2015</td>\n      <td>Fiction</td>\n    </tr>\n    <tr>\n      <th>54</th>\n      <td>Creative Haven Creative Cats Coloring Book (Ad...</td>\n      <td>Marjorie Sarnat</td>\n      <td>4.8</td>\n      <td>4022</td>\n      <td>4</td>\n      <td>2015</td>\n      <td>Non Fiction</td>\n    </tr>\n    <tr>\n      <th>123</th>\n      <td>Giraffes Can't Dance</td>\n      <td>Giles Andreae</td>\n      <td>4.8</td>\n      <td>14038</td>\n      <td>4</td>\n      <td>2015</td>\n      <td>Fiction</td>\n    </tr>\n    <tr>\n      <th>210</th>\n      <td>Laugh-Out-Loud Jokes for Kids</td>\n      <td>Rob Elliott</td>\n      <td>4.6</td>\n      <td>6990</td>\n      <td>4</td>\n      <td>2015</td>\n      <td>Non Fiction</td>\n    </tr>\n    <tr>\n      <th>111</th>\n      <td>First 100 Words</td>\n      <td>Roger Priddy</td>\n      <td>4.7</td>\n      <td>17323</td>\n      <td>4</td>\n      <td>2015</td>\n      <td>Non Fiction</td>\n    </tr>\n    <tr>\n      <th>206</th>\n      <td>Knock-Knock Jokes for Kids</td>\n      <td>Rob Elliott</td>\n      <td>4.5</td>\n      <td>3673</td>\n      <td>4</td>\n      <td>2015</td>\n      <td>Non Fiction</td>\n    </tr>\n    <tr>\n      <th>89</th>\n      <td>Dover Creative Haven Art Nouveau Animal Design...</td>\n      <td>Marty Noble</td>\n      <td>4.6</td>\n      <td>2134</td>\n      <td>5</td>\n      <td>2015</td>\n      <td>Non Fiction</td>\n    </tr>\n    <tr>\n      <th>224</th>\n      <td>Love You Forever</td>\n      <td>Robert Munsch</td>\n      <td>4.8</td>\n      <td>18613</td>\n      <td>5</td>\n      <td>2015</td>\n      <td>Fiction</td>\n    </tr>\n    <tr>\n      <th>201</th>\n      <td>Killing Reagan: The Violent Assault That Chang...</td>\n      <td>Bill O'Reilly</td>\n      <td>4.6</td>\n      <td>5235</td>\n      <td>5</td>\n      <td>2015</td>\n      <td>Non Fiction</td>\n    </tr>\n    <tr>\n      <th>55</th>\n      <td>Creative Haven Owls Coloring Book (Adult Color...</td>\n      <td>Marjorie Sarnat</td>\n      <td>4.8</td>\n      <td>3871</td>\n      <td>5</td>\n      <td>2015</td>\n      <td>Non Fiction</td>\n    </tr>\n    <tr>\n      <th>28</th>\n      <td>Baby Touch and Feel: Animals</td>\n      <td>DK</td>\n      <td>4.6</td>\n      <td>5360</td>\n      <td>5</td>\n      <td>2015</td>\n      <td>Non Fiction</td>\n    </tr>\n    <tr>\n      <th>478</th>\n      <td>The Very Hungry Caterpillar</td>\n      <td>Eric Carle</td>\n      <td>4.9</td>\n      <td>19546</td>\n      <td>5</td>\n      <td>2015</td>\n      <td>Fiction</td>\n    </tr>\n    <tr>\n      <th>63</th>\n      <td>Dear Zoo: A Lift-the-Flap Book</td>\n      <td>Rod Campbell</td>\n      <td>4.8</td>\n      <td>10922</td>\n      <td>5</td>\n      <td>2015</td>\n      <td>Fiction</td>\n    </tr>\n    <tr>\n      <th>17</th>\n      <td>Adult Coloring Book: Stress Relieving Patterns</td>\n      <td>Blue Star Coloring</td>\n      <td>4.4</td>\n      <td>2951</td>\n      <td>6</td>\n      <td>2015</td>\n      <td>Non Fiction</td>\n    </tr>\n    <tr>\n      <th>16</th>\n      <td>Adult Coloring Book: Stress Relieving Animal D...</td>\n      <td>Blue Star Coloring</td>\n      <td>4.6</td>\n      <td>2925</td>\n      <td>6</td>\n      <td>2015</td>\n      <td>Non Fiction</td>\n    </tr>\n    <tr>\n      <th>376</th>\n      <td>The Four Agreements: A Practical Guide to Pers...</td>\n      <td>Don Miguel Ruiz</td>\n      <td>4.7</td>\n      <td>23308</td>\n      <td>6</td>\n      <td>2015</td>\n      <td>Non Fiction</td>\n    </tr>\n    <tr>\n      <th>253</th>\n      <td>Old School (Diary of a Wimpy Kid #10)</td>\n      <td>Jeff Kinney</td>\n      <td>4.8</td>\n      <td>6169</td>\n      <td>7</td>\n      <td>2015</td>\n      <td>Fiction</td>\n    </tr>\n    <tr>\n      <th>191</th>\n      <td>Jesus Calling: Enjoying Peace in His Presence ...</td>\n      <td>Sarah Young</td>\n      <td>4.9</td>\n      <td>19576</td>\n      <td>8</td>\n      <td>2015</td>\n      <td>Non Fiction</td>\n    </tr>\n    <tr>\n      <th>350</th>\n      <td>The Book with No Pictures</td>\n      <td>B. J. Novak</td>\n      <td>4.8</td>\n      <td>8081</td>\n      <td>8</td>\n      <td>2015</td>\n      <td>Fiction</td>\n    </tr>\n    <tr>\n      <th>325</th>\n      <td>The 5 Love Languages: The Secret to Love that ...</td>\n      <td>Gary Chapman</td>\n      <td>4.8</td>\n      <td>25554</td>\n      <td>8</td>\n      <td>2015</td>\n      <td>Non Fiction</td>\n    </tr>\n    <tr>\n      <th>248</th>\n      <td>Oh, the Places You'll Go!</td>\n      <td>Dr. Seuss</td>\n      <td>4.9</td>\n      <td>21834</td>\n      <td>8</td>\n      <td>2015</td>\n      <td>Fiction</td>\n    </tr>\n    <tr>\n      <th>18</th>\n      <td>Adult Coloring Books: A Coloring Book for Adul...</td>\n      <td>Coloring Books for Adults</td>\n      <td>4.5</td>\n      <td>2426</td>\n      <td>8</td>\n      <td>2015</td>\n      <td>Non Fiction</td>\n    </tr>\n  </tbody>\n</table>\n</div>"
     },
     "execution_count": 18,
     "metadata": {},
     "output_type": "execute_result"
    }
   ],
   "source": [
    "data[(data['price'] <= 8) & (data['year'] == 2015)]"
   ]
  },
  {
   "cell_type": "markdown",
   "id": "bce16fcc",
   "metadata": {},
   "source": [
    "### Какая книга последняя в отсортированном списке? Ответ:\n",
    "Adult Coloring Books: A Coloring Book for Adul"
   ]
  },
  {
   "cell_type": "code",
   "execution_count": 19,
   "id": "a0f970f7",
   "metadata": {},
   "outputs": [
    {
     "data": {
      "text/plain": "             amax  amin\ngenre                  \nFiction        82     0\nNon Fiction   105     0",
      "text/html": "<div>\n<style scoped>\n    .dataframe tbody tr th:only-of-type {\n        vertical-align: middle;\n    }\n\n    .dataframe tbody tr th {\n        vertical-align: top;\n    }\n\n    .dataframe thead th {\n        text-align: right;\n    }\n</style>\n<table border=\"1\" class=\"dataframe\">\n  <thead>\n    <tr style=\"text-align: right;\">\n      <th></th>\n      <th>amax</th>\n      <th>amin</th>\n    </tr>\n    <tr>\n      <th>genre</th>\n      <th></th>\n      <th></th>\n    </tr>\n  </thead>\n  <tbody>\n    <tr>\n      <th>Fiction</th>\n      <td>82</td>\n      <td>0</td>\n    </tr>\n    <tr>\n      <th>Non Fiction</th>\n      <td>105</td>\n      <td>0</td>\n    </tr>\n  </tbody>\n</table>\n</div>"
     },
     "execution_count": 19,
     "metadata": {},
     "output_type": "execute_result"
    }
   ],
   "source": [
    "data.groupby('genre')['price'].agg([np.max, np.min])"
   ]
  },
  {
   "cell_type": "markdown",
   "id": "ec7458ae",
   "metadata": {},
   "source": [
    "### Максимальная цена для жанра Fiction: 82  \n",
    "### Минимальная цена для жанра Fiction: 0  \n",
    "### Максимальная цена для жанра Non Fiction: 105  \n",
    "### Минимальная цена для жанра Non Fiction: 0  "
   ]
  },
  {
   "cell_type": "code",
   "execution_count": 20,
   "id": "5b0ff139",
   "metadata": {},
   "outputs": [
    {
     "data": {
      "text/plain": "author\nAbraham Verghese              2\nAdam Gasiewski                1\nAdam Mansbach                 1\nAdir Levy                     1\nAdmiral William H. McRaven    1\n                             ..\nWalter Isaacson               3\nWilliam Davis                 2\nWilliam P. Young              2\nWizards RPG Team              3\nZhi Gang Sha                  2\nName: name, Length: 248, dtype: int64"
     },
     "execution_count": 20,
     "metadata": {},
     "output_type": "execute_result"
    }
   ],
   "source": [
    "authors_book = data.groupby(['author'])['name'].count();\n",
    "authors_book"
   ]
  },
  {
   "cell_type": "code",
   "execution_count": 21,
   "id": "28d216fc",
   "metadata": {},
   "outputs": [
    {
     "data": {
      "text/plain": "(248,)"
     },
     "execution_count": 21,
     "metadata": {},
     "output_type": "execute_result"
    }
   ],
   "source": [
    "authors_book.shape\n"
   ]
  },
  {
   "cell_type": "markdown",
   "id": "251966f1",
   "metadata": {},
   "source": [
    " ### Какой размерности вышла таблица? (248,)"
   ]
  },
  {
   "cell_type": "code",
   "execution_count": 22,
   "id": "b318f4e5",
   "metadata": {},
   "outputs": [
    {
     "data": {
      "text/plain": "author\nJeff Kinney    12\nName: name, dtype: int64"
     },
     "execution_count": 22,
     "metadata": {},
     "output_type": "execute_result"
    }
   ],
   "source": [
    "authors_book.nlargest(1)"
   ]
  },
  {
   "cell_type": "markdown",
   "id": "37133bdd",
   "metadata": {},
   "source": [
    "### У какого автора больше всего книг? Jeff Kinney  \n",
    "### Сколько книг у этого автора? 12"
   ]
  },
  {
   "cell_type": "code",
   "execution_count": 23,
   "id": "8f0e6116",
   "metadata": {},
   "outputs": [],
   "source": [
    "author_rating = data.groupby('author')['user_rating'].agg(np.mean)"
   ]
  },
  {
   "cell_type": "code",
   "execution_count": 24,
   "id": "f46e8361",
   "metadata": {},
   "outputs": [
    {
     "data": {
      "text/plain": "author\nDonna Tartt    3.9\nName: user_rating, dtype: float64"
     },
     "execution_count": 24,
     "metadata": {},
     "output_type": "execute_result"
    }
   ],
   "source": [
    "author_rating.nsmallest(1)"
   ]
  },
  {
   "cell_type": "markdown",
   "id": "b63943ab",
   "metadata": {},
   "source": [
    "### У какого автора средний рейтинг минимальный?  Donna Tartt  \n",
    "### Какой у этого автора средний рейтинг? 3.9"
   ]
  },
  {
   "cell_type": "code",
   "execution_count": 25,
   "id": "82fe4bf1",
   "metadata": {},
   "outputs": [],
   "source": [
    "author_concat = pd.concat([authors_book, author_rating], axis=1)"
   ]
  },
  {
   "cell_type": "code",
   "execution_count": 26,
   "id": "46256e0c",
   "metadata": {},
   "outputs": [],
   "source": [
    "author_concat.columns = ['book_quantity', 'user_rating']\n"
   ]
  },
  {
   "cell_type": "code",
   "execution_count": 27,
   "id": "ad8521f9",
   "metadata": {},
   "outputs": [
    {
     "data": {
      "text/plain": "                            book_quantity  user_rating\nauthor                                                \nAbraham Verghese                        2     4.600000\nAdam Gasiewski                          1     4.400000\nAdam Mansbach                           1     4.800000\nAdir Levy                               1     4.800000\nAdmiral William H. McRaven              1     4.700000\n...                                   ...          ...\nWalter Isaacson                         3     4.566667\nWilliam Davis                           2     4.400000\nWilliam P. Young                        2     4.600000\nWizards RPG Team                        3     4.800000\nZhi Gang Sha                            2     4.600000\n\n[248 rows x 2 columns]",
      "text/html": "<div>\n<style scoped>\n    .dataframe tbody tr th:only-of-type {\n        vertical-align: middle;\n    }\n\n    .dataframe tbody tr th {\n        vertical-align: top;\n    }\n\n    .dataframe thead th {\n        text-align: right;\n    }\n</style>\n<table border=\"1\" class=\"dataframe\">\n  <thead>\n    <tr style=\"text-align: right;\">\n      <th></th>\n      <th>book_quantity</th>\n      <th>user_rating</th>\n    </tr>\n    <tr>\n      <th>author</th>\n      <th></th>\n      <th></th>\n    </tr>\n  </thead>\n  <tbody>\n    <tr>\n      <th>Abraham Verghese</th>\n      <td>2</td>\n      <td>4.600000</td>\n    </tr>\n    <tr>\n      <th>Adam Gasiewski</th>\n      <td>1</td>\n      <td>4.400000</td>\n    </tr>\n    <tr>\n      <th>Adam Mansbach</th>\n      <td>1</td>\n      <td>4.800000</td>\n    </tr>\n    <tr>\n      <th>Adir Levy</th>\n      <td>1</td>\n      <td>4.800000</td>\n    </tr>\n    <tr>\n      <th>Admiral William H. McRaven</th>\n      <td>1</td>\n      <td>4.700000</td>\n    </tr>\n    <tr>\n      <th>...</th>\n      <td>...</td>\n      <td>...</td>\n    </tr>\n    <tr>\n      <th>Walter Isaacson</th>\n      <td>3</td>\n      <td>4.566667</td>\n    </tr>\n    <tr>\n      <th>William Davis</th>\n      <td>2</td>\n      <td>4.400000</td>\n    </tr>\n    <tr>\n      <th>William P. Young</th>\n      <td>2</td>\n      <td>4.600000</td>\n    </tr>\n    <tr>\n      <th>Wizards RPG Team</th>\n      <td>3</td>\n      <td>4.800000</td>\n    </tr>\n    <tr>\n      <th>Zhi Gang Sha</th>\n      <td>2</td>\n      <td>4.600000</td>\n    </tr>\n  </tbody>\n</table>\n<p>248 rows × 2 columns</p>\n</div>"
     },
     "execution_count": 27,
     "metadata": {},
     "output_type": "execute_result"
    }
   ],
   "source": [
    "author_concat"
   ]
  },
  {
   "cell_type": "code",
   "execution_count": 28,
   "id": "300554d5",
   "metadata": {},
   "outputs": [
    {
     "data": {
      "text/plain": "                                    book_quantity  user_rating\nauthor                                                        \nMuriel Barbery                                  1     4.000000\nChris Cleave                                    1     4.100000\nIan K. Smith M.D.                               1     4.100000\nPierre Dukan                                    1     4.100000\nElizabeth Strout                                1     4.200000\n...                                           ...          ...\nAmerican Psychological Association             10     4.500000\nSuzanne Collins                                11     4.663636\nGary Chapman                                   11     4.736364\nRick Riordan                                   11     4.772727\nJeff Kinney                                    12     4.800000\n\n[248 rows x 2 columns]",
      "text/html": "<div>\n<style scoped>\n    .dataframe tbody tr th:only-of-type {\n        vertical-align: middle;\n    }\n\n    .dataframe tbody tr th {\n        vertical-align: top;\n    }\n\n    .dataframe thead th {\n        text-align: right;\n    }\n</style>\n<table border=\"1\" class=\"dataframe\">\n  <thead>\n    <tr style=\"text-align: right;\">\n      <th></th>\n      <th>book_quantity</th>\n      <th>user_rating</th>\n    </tr>\n    <tr>\n      <th>author</th>\n      <th></th>\n      <th></th>\n    </tr>\n  </thead>\n  <tbody>\n    <tr>\n      <th>Muriel Barbery</th>\n      <td>1</td>\n      <td>4.000000</td>\n    </tr>\n    <tr>\n      <th>Chris Cleave</th>\n      <td>1</td>\n      <td>4.100000</td>\n    </tr>\n    <tr>\n      <th>Ian K. Smith M.D.</th>\n      <td>1</td>\n      <td>4.100000</td>\n    </tr>\n    <tr>\n      <th>Pierre Dukan</th>\n      <td>1</td>\n      <td>4.100000</td>\n    </tr>\n    <tr>\n      <th>Elizabeth Strout</th>\n      <td>1</td>\n      <td>4.200000</td>\n    </tr>\n    <tr>\n      <th>...</th>\n      <td>...</td>\n      <td>...</td>\n    </tr>\n    <tr>\n      <th>American Psychological Association</th>\n      <td>10</td>\n      <td>4.500000</td>\n    </tr>\n    <tr>\n      <th>Suzanne Collins</th>\n      <td>11</td>\n      <td>4.663636</td>\n    </tr>\n    <tr>\n      <th>Gary Chapman</th>\n      <td>11</td>\n      <td>4.736364</td>\n    </tr>\n    <tr>\n      <th>Rick Riordan</th>\n      <td>11</td>\n      <td>4.772727</td>\n    </tr>\n    <tr>\n      <th>Jeff Kinney</th>\n      <td>12</td>\n      <td>4.800000</td>\n    </tr>\n  </tbody>\n</table>\n<p>248 rows × 2 columns</p>\n</div>"
     },
     "execution_count": 28,
     "metadata": {},
     "output_type": "execute_result"
    }
   ],
   "source": [
    "author_concat.sort_values(['book_quantity', 'user_rating'])"
   ]
  },
  {
   "cell_type": "markdown",
   "id": "833eb7be",
   "metadata": {},
   "source": [
    "#   Какой автор первый в списке?\n",
    "### Muriel Barbery\t"
   ]
  },
  {
   "cell_type": "markdown",
   "id": "b86a0751",
   "metadata": {
    "pycharm": {
     "name": "#%% md\n"
    }
   },
   "source": [
    "# Module 3"
   ]
  },
  {
   "cell_type": "code",
   "execution_count": 29,
   "outputs": [],
   "source": [
    "import matplotlib.pyplot as plt\n",
    "import seaborn as sns"
   ],
   "metadata": {
    "collapsed": false,
    "pycharm": {
     "name": "#%%\n"
    }
   }
  },
  {
   "cell_type": "code",
   "execution_count": 30,
   "outputs": [
    {
     "data": {
      "text/plain": "                                                  name  \\\n42          Cabin Fever (Diary of a Wimpy Kid, Book 6)   \n71             Diary of a Wimpy Kid: Hard Luck, Book 8   \n381                                        The Getaway   \n116                        Frozen (Little Golden Book)   \n505                              To Kill a Mockingbird   \n..                                                 ...   \n346  The Book of Basketball: The NBA According to T...   \n151                           Hamilton: The Revolution   \n473                       The Twilight Saga Collection   \n69   Diagnostic and Statistical Manual of Mental Di...   \n70   Diagnostic and Statistical Manual of Mental Di...   \n\n                               author  user_rating  reviews  price  year  \\\n42                        Jeff Kinney          4.8     4505      0  2011   \n71                        Jeff Kinney          4.8     6812      0  2013   \n381                       Jeff Kinney          4.8     5836      0  2017   \n116                         RH Disney          4.7     3642      0  2014   \n505                        Harper Lee          4.8    26234      0  2013   \n..                                ...          ...      ...    ...   ...   \n346                      Bill Simmons          4.7      858     53  2009   \n151                Lin-Manuel Miranda          4.9     5867     54  2016   \n473                   Stephenie Meyer          4.7     3801     82  2009   \n69   American Psychiatric Association          4.5     6679    105  2013   \n70   American Psychiatric Association          4.5     6679    105  2014   \n\n           genre  \n42       Fiction  \n71       Fiction  \n381      Fiction  \n116      Fiction  \n505      Fiction  \n..           ...  \n346  Non Fiction  \n151  Non Fiction  \n473      Fiction  \n69   Non Fiction  \n70   Non Fiction  \n\n[550 rows x 7 columns]",
      "text/html": "<div>\n<style scoped>\n    .dataframe tbody tr th:only-of-type {\n        vertical-align: middle;\n    }\n\n    .dataframe tbody tr th {\n        vertical-align: top;\n    }\n\n    .dataframe thead th {\n        text-align: right;\n    }\n</style>\n<table border=\"1\" class=\"dataframe\">\n  <thead>\n    <tr style=\"text-align: right;\">\n      <th></th>\n      <th>name</th>\n      <th>author</th>\n      <th>user_rating</th>\n      <th>reviews</th>\n      <th>price</th>\n      <th>year</th>\n      <th>genre</th>\n    </tr>\n  </thead>\n  <tbody>\n    <tr>\n      <th>42</th>\n      <td>Cabin Fever (Diary of a Wimpy Kid, Book 6)</td>\n      <td>Jeff Kinney</td>\n      <td>4.8</td>\n      <td>4505</td>\n      <td>0</td>\n      <td>2011</td>\n      <td>Fiction</td>\n    </tr>\n    <tr>\n      <th>71</th>\n      <td>Diary of a Wimpy Kid: Hard Luck, Book 8</td>\n      <td>Jeff Kinney</td>\n      <td>4.8</td>\n      <td>6812</td>\n      <td>0</td>\n      <td>2013</td>\n      <td>Fiction</td>\n    </tr>\n    <tr>\n      <th>381</th>\n      <td>The Getaway</td>\n      <td>Jeff Kinney</td>\n      <td>4.8</td>\n      <td>5836</td>\n      <td>0</td>\n      <td>2017</td>\n      <td>Fiction</td>\n    </tr>\n    <tr>\n      <th>116</th>\n      <td>Frozen (Little Golden Book)</td>\n      <td>RH Disney</td>\n      <td>4.7</td>\n      <td>3642</td>\n      <td>0</td>\n      <td>2014</td>\n      <td>Fiction</td>\n    </tr>\n    <tr>\n      <th>505</th>\n      <td>To Kill a Mockingbird</td>\n      <td>Harper Lee</td>\n      <td>4.8</td>\n      <td>26234</td>\n      <td>0</td>\n      <td>2013</td>\n      <td>Fiction</td>\n    </tr>\n    <tr>\n      <th>...</th>\n      <td>...</td>\n      <td>...</td>\n      <td>...</td>\n      <td>...</td>\n      <td>...</td>\n      <td>...</td>\n      <td>...</td>\n    </tr>\n    <tr>\n      <th>346</th>\n      <td>The Book of Basketball: The NBA According to T...</td>\n      <td>Bill Simmons</td>\n      <td>4.7</td>\n      <td>858</td>\n      <td>53</td>\n      <td>2009</td>\n      <td>Non Fiction</td>\n    </tr>\n    <tr>\n      <th>151</th>\n      <td>Hamilton: The Revolution</td>\n      <td>Lin-Manuel Miranda</td>\n      <td>4.9</td>\n      <td>5867</td>\n      <td>54</td>\n      <td>2016</td>\n      <td>Non Fiction</td>\n    </tr>\n    <tr>\n      <th>473</th>\n      <td>The Twilight Saga Collection</td>\n      <td>Stephenie Meyer</td>\n      <td>4.7</td>\n      <td>3801</td>\n      <td>82</td>\n      <td>2009</td>\n      <td>Fiction</td>\n    </tr>\n    <tr>\n      <th>69</th>\n      <td>Diagnostic and Statistical Manual of Mental Di...</td>\n      <td>American Psychiatric Association</td>\n      <td>4.5</td>\n      <td>6679</td>\n      <td>105</td>\n      <td>2013</td>\n      <td>Non Fiction</td>\n    </tr>\n    <tr>\n      <th>70</th>\n      <td>Diagnostic and Statistical Manual of Mental Di...</td>\n      <td>American Psychiatric Association</td>\n      <td>4.5</td>\n      <td>6679</td>\n      <td>105</td>\n      <td>2014</td>\n      <td>Non Fiction</td>\n    </tr>\n  </tbody>\n</table>\n<p>550 rows × 7 columns</p>\n</div>"
     },
     "execution_count": 30,
     "metadata": {},
     "output_type": "execute_result"
    }
   ],
   "source": [
    "data"
   ],
   "metadata": {
    "collapsed": false,
    "pycharm": {
     "name": "#%%\n"
    }
   }
  },
  {
   "cell_type": "code",
   "execution_count": 31,
   "outputs": [
    {
     "name": "stderr",
     "output_type": "stream",
     "text": [
      "C:\\Users\\User\\anaconda3\\lib\\site-packages\\seaborn\\_decorators.py:36: FutureWarning: Pass the following variables as keyword args: x, y. From version 0.12, the only valid positional argument will be `data`, and passing other arguments without an explicit keyword will result in an error or misinterpretation.\n",
      "  warnings.warn(\n"
     ]
    },
    {
     "data": {
      "text/plain": "<AxesSubplot:xlabel='price', ylabel='user_rating'>"
     },
     "execution_count": 31,
     "metadata": {},
     "output_type": "execute_result"
    },
    {
     "data": {
      "text/plain": "<Figure size 432x288 with 1 Axes>",
      "image/png": "[encoded data removed]"
     },
     "metadata": {
      "needs_background": "light"
     },
     "output_type": "display_data"
    }
   ],
   "source": [
    "sns.scatterplot(data['price'], data['user_rating'])"
   ],
   "metadata": {
    "collapsed": false,
    "pycharm": {
     "name": "#%%\n"
    }
   }
  },
  {
   "cell_type": "code",
   "execution_count": 32,
   "outputs": [
    {
     "data": {
      "text/plain": "<AxesSubplot:xlabel='year', ylabel='count'>"
     },
     "execution_count": 32,
     "metadata": {},
     "output_type": "execute_result"
    },
    {
     "data": {
      "text/plain": "<Figure size 432x288 with 1 Axes>",
      "image/png": "[encoded data removed]"
     },
     "metadata": {
      "needs_background": "light"
     },
     "output_type": "display_data"
    }
   ],
   "source": [
    "sns.countplot(data=data, x='year', hue='genre')"
   ],
   "metadata": {
    "collapsed": false,
    "pycharm": {
     "name": "#%%\n"
    }
   }
  },
  {
   "cell_type": "code",
   "execution_count": 33,
   "outputs": [
    {
     "data": {
      "text/plain": "<AxesSubplot:xlabel='year', ylabel='Count'>"
     },
     "execution_count": 33,
     "metadata": {},
     "output_type": "execute_result"
    },
    {
     "data": {
      "text/plain": "<Figure size 432x288 with 1 Axes>",
      "image/png": "[encoded data removed]"
     },
     "metadata": {
      "needs_background": "light"
     },
     "output_type": "display_data"
    }
   ],
   "source": [
    "sns.histplot(data=data, x='year', hue='genre')"
   ],
   "metadata": {
    "collapsed": false,
    "pycharm": {
     "name": "#%%\n"
    }
   }
  },
  {
   "cell_type": "code",
   "execution_count": 38,
   "outputs": [
    {
     "data": {
      "text/plain": "<AxesSubplot:xlabel='user_rating', ylabel='reviews'>"
     },
     "execution_count": 38,
     "metadata": {},
     "output_type": "execute_result"
    },
    {
     "data": {
      "text/plain": "<Figure size 432x288 with 1 Axes>",
      "image/png": "[encoded data removed]"
     },
     "metadata": {
      "needs_background": "light"
     },
     "output_type": "display_data"
    }
   ],
   "source": [
    "sns.lineplot(data=data[data['user_rating'] >= 3.8], x='user_rating', y='reviews', hue='genre')"
   ],
   "metadata": {
    "collapsed": false,
    "pycharm": {
     "name": "#%%\n"
    }
   }
  },
  {
   "cell_type": "code",
   "execution_count": null,
   "outputs": [],
   "source": [],
   "metadata": {
    "collapsed": false,
    "pycharm": {
     "name": "#%%\n"
    }
   }
  }
 ],
 "metadata": {
  "kernelspec": {
   "display_name": "Python 3 (ipykernel)",
   "language": "python",
   "name": "python3"
  },
  "language_info": {
   "codemirror_mode": {
    "name": "ipython",
    "version": 3
   },
   "file_extension": ".py",
   "mimetype": "text/x-python",
   "name": "python",
   "nbconvert_exporter": "python",
   "pygments_lexer": "ipython3",
   "version": "3.9.7"
  }
 },
 "nbformat": 4,
 "nbformat_minor": 5
}