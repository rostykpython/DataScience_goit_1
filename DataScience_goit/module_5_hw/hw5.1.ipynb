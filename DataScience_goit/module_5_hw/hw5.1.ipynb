{
 "cells": [
  {
   "cell_type": "code",
   "execution_count": 17,
   "metadata": {
    "collapsed": true
   },
   "outputs": [],
   "source": [
    "def is_palindrom(head):\n",
    "    mid = len(head) // 2\n",
    "    if head[0] == head[-1] and len(head) % 2 == 0:\n",
    "        first_half = head[:mid]\n",
    "        second_half = head[mid:]\n",
    "        print(first_half)\n",
    "        print(second_half)\n",
    "        for i, b in zip(first_half, second_half[-1:]):\n",
    "            print(i, b)\n",
    "            if i != b:\n",
    "                return False\n",
    "        return True\n",
    "    else:\n",
    "        return False\n"
   ]
  },
  {
   "cell_type": "code",
   "execution_count": 18,
   "outputs": [
    {
     "name": "stdout",
     "output_type": "stream",
     "text": [
      "False\n"
     ]
    }
   ],
   "source": [
    "data = [1, 2, 3, 4, 4, 3, 2]\n",
    "print(is_palindrom(data))"
   ],
   "metadata": {
    "collapsed": false,
    "pycharm": {
     "name": "#%%\n"
    }
   }
  },
  {
   "cell_type": "code",
   "execution_count": 19,
   "outputs": [
    {
     "name": "stdout",
     "output_type": "stream",
     "text": [
      "[1, 2, 3, 4]\n",
      "[5, 4, 2, 1]\n",
      "1 1\n",
      "True\n"
     ]
    }
   ],
   "source": [
    "data = [1, 2, 3, 4, 5, 4, 2, 1]\n",
    "print(is_palindrom(data))"
   ],
   "metadata": {
    "collapsed": false,
    "pycharm": {
     "name": "#%%\n"
    }
   }
  },
  {
   "cell_type": "code",
   "execution_count": 3,
   "outputs": [],
   "source": [],
   "metadata": {
    "collapsed": false,
    "pycharm": {
     "name": "#%%\n"
    }
   }
  }
 ],
 "metadata": {
  "kernelspec": {
   "display_name": "Python 3",
   "language": "python",
   "name": "python3"
  },
  "language_info": {
   "codemirror_mode": {
    "name": "ipython",
    "version": 2
   },
   "file_extension": ".py",
   "mimetype": "text/x-python",
   "name": "python",
   "nbconvert_exporter": "python",
   "pygments_lexer": "ipython2",
   "version": "2.7.6"
  }
 },
 "nbformat": 4,
 "nbformat_minor": 0
}