{
 "cells": [
  {
   "cell_type": "code",
   "execution_count": 32,
   "metadata": {
    "collapsed": true
   },
   "outputs": [],
   "source": [
    "from scipy import optimize\n",
    "import numpy as np\n",
    "import matplotlib.pyplot as plt"
   ]
  },
  {
   "cell_type": "code",
   "execution_count": 75,
   "outputs": [],
   "source": [
    "def find_length(x):\n",
    "    a = x[0]\n",
    "    b = x[1]\n",
    "    return a * b\n",
    "\n",
    "def constraint1(x):\n",
    "    return x[0] * x[1] - 1000\n"
   ],
   "metadata": {
    "collapsed": false,
    "pycharm": {
     "name": "#%%\n"
    }
   }
  },
  {
   "cell_type": "code",
   "execution_count": 76,
   "outputs": [],
   "source": [
    "b = (1, None)\n",
    "bounds = (b, b)"
   ],
   "metadata": {
    "collapsed": false,
    "pycharm": {
     "name": "#%%\n"
    }
   }
  },
  {
   "cell_type": "code",
   "execution_count": 77,
   "outputs": [],
   "source": [
    "con1 = {'type': 'eq', 'fun': constraint1}"
   ],
   "metadata": {
    "collapsed": false,
    "pycharm": {
     "name": "#%%\n"
    }
   }
  },
  {
   "cell_type": "code",
   "execution_count": 83,
   "outputs": [
    {
     "data": {
      "text/plain": "     fun: 1000.0000000000001\n     jac: array([  1.00075531, 999.24456787])\n message: 'Optimization terminated successfully'\n    nfev: 10\n     nit: 3\n    njev: 3\n  status: 0\n success: True\n       x: array([999.2445698,   1.000756 ])"
     },
     "execution_count": 83,
     "metadata": {},
     "output_type": "execute_result"
    }
   ],
   "source": [
    "optimize.minimize(find_length, np.array([1000, 28]), bounds=bounds, constraints=con1 )"
   ],
   "metadata": {
    "collapsed": false,
    "pycharm": {
     "name": "#%%\n"
    }
   }
  },
  {
   "cell_type": "code",
   "execution_count": 84,
   "outputs": [],
   "source": [
    "a = np.linspace(1, 1000, 200)\n",
    "b = 1000 / a"
   ],
   "metadata": {
    "collapsed": false,
    "pycharm": {
     "name": "#%%\n"
    }
   }
  },
  {
   "cell_type": "code",
   "execution_count": 85,
   "outputs": [
    {
     "data": {
      "text/plain": "[<matplotlib.lines.Line2D at 0x1b6e8c636d0>]"
     },
     "execution_count": 85,
     "metadata": {},
     "output_type": "execute_result"
    },
    {
     "data": {
      "text/plain": "<Figure size 432x288 with 1 Axes>",
      "image/png": "[encoded data removed]"
     },
     "metadata": {
      "needs_background": "light"
     },
     "output_type": "display_data"
    }
   ],
   "source": [
    "plt.plot(a, b)"
   ],
   "metadata": {
    "collapsed": false,
    "pycharm": {
     "name": "#%%\n"
    }
   }
  },
  {
   "cell_type": "code",
   "execution_count": 86,
   "outputs": [
    {
     "data": {
      "text/plain": "array([1000.        ,  166.11018364,   90.57806099,   62.26533166,\n         47.43742551,   38.31343858,   32.13305345,   27.66963293,\n         24.29495788,   21.65397171,   19.53086662,   17.78691455,\n         16.32887503,   15.09176399,   14.02890377,   13.10590095,\n         12.29685472,   11.58188802,   10.94549255,   10.37539103,\n          9.86173745,    9.39654358,    8.97326059,    8.58646876,\n          8.23164426,    7.90498133,    7.60325526,    7.32371559,\n          7.06400199,    6.82207748,    6.59617488,    6.38475359,\n          6.18646439,    6.00012061,    5.82467437,    5.65919691,\n          5.50286204,    5.35493246,    5.21474804,    5.08171604,\n          4.95530267,    4.835026  ,    4.72044975,    4.61117805,\n          4.50685087,    4.40714001,    4.31174572,    4.22039362,\n          4.13283213,    4.04883011,    3.96817484,    3.89067021,\n          3.81613516,    3.74440221,    3.67531628,    3.6087335 ,\n          3.54452024,    3.48255224,    3.42271375,    3.36489685,\n          3.30900081,    3.25493147,    3.2026007 ,    3.151926  ,\n          3.10282997,    3.05523997,    3.00908775,    2.96430912,\n          2.92084367,    2.87863446,    2.8376278 ,    2.79777303,\n          2.75902228,    2.72133031,    2.6846543 ,    2.64895373,\n          2.61419019,    2.58032727,    2.54733042,    2.51516684,\n          2.48380534,    2.4532163 ,    2.42337153,    2.39424419,\n          2.36580871,    2.33804075,    2.31091705,    2.28441547,\n          2.25851483,    2.23319493,    2.20843645,    2.18422092,\n          2.16053069,    2.13734883,    2.11465916,    2.09244616,\n          2.07069498,    2.04939136,    2.02852163,    2.00807265,\n          1.98803185,    1.96838711,    1.94912681,    1.93023978,\n          1.91171526,    1.89354292,    1.87571282,    1.85821537,\n          1.84104134,    1.82418187,    1.80762837,    1.79137261,\n          1.7754066 ,    1.75972269,    1.74431345,    1.72917174,\n          1.71429064,    1.69966348,    1.68528383,    1.67114545,\n          1.65724232,    1.64356861,    1.6301187 ,    1.61688713,\n          1.60386863,    1.59105809,    1.57845058,    1.5660413 ,\n          1.55382561,    1.54179902,    1.52995718,    1.51829585,\n          1.50681094,    1.49549847,    1.4843546 ,    1.47337558,\n          1.46255779,    1.45189768,    1.44139185,    1.43103696,\n          1.42082979,    1.4107672 ,    1.40084614,    1.39106364,\n          1.38141682,    1.37190288,    1.36251909,    1.35326279,\n          1.34413141,    1.33512244,    1.32623343,    1.317462  ,\n          1.30880583,    1.30026267,    1.29183031,    1.28350662,\n          1.2752895 ,    1.26717693,    1.25916693,    1.25125755,\n          1.24344691,    1.23573318,    1.22811457,    1.22058932,\n          1.21315573,    1.20581214,    1.19855691,    1.19138848,\n          1.18430528,    1.1773058 ,    1.17038858,    1.16355217,\n          1.15679515,    1.15011617,    1.14351386,    1.13698693,\n          1.13053408,    1.12415406,    1.11784565,    1.11160764,\n          1.10543887,    1.09933819,    1.09330447,    1.08733663,\n          1.08143358,    1.07559428,    1.0698177 ,    1.06410284,\n          1.05844871,    1.05285435,    1.04731881,    1.04184118,\n          1.03642055,    1.03105603,    1.02574676,    1.02049189,\n          1.01529058,    1.01014203,    1.00504543,    1.        ])"
     },
     "execution_count": 86,
     "metadata": {},
     "output_type": "execute_result"
    }
   ],
   "source": [
    "b"
   ],
   "metadata": {
    "collapsed": false,
    "pycharm": {
     "name": "#%%\n"
    }
   }
  },
  {
   "cell_type": "code",
   "execution_count": 87,
   "outputs": [],
   "source": [],
   "metadata": {
    "collapsed": false,
    "pycharm": {
     "name": "#%%\n"
    }
   }
  },
  {
   "cell_type": "code",
   "execution_count": null,
   "outputs": [],
   "source": [],
   "metadata": {
    "collapsed": false,
    "pycharm": {
     "name": "#%%\n"
    }
   }
  }
 ],
 "metadata": {
  "kernelspec": {
   "display_name": "Python 3",
   "language": "python",
   "name": "python3"
  },
  "language_info": {
   "codemirror_mode": {
    "name": "ipython",
    "version": 2
   },
   "file_extension": ".py",
   "mimetype": "text/x-python",
   "name": "python",
   "nbconvert_exporter": "python",
   "pygments_lexer": "ipython2",
   "version": "2.7.6"
  }
 },
 "nbformat": 4,
 "nbformat_minor": 0
}