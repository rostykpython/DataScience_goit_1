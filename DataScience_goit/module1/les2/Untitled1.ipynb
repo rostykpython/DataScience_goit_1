{
 "cells": [
  {
   "cell_type": "code",
   "execution_count": 15,
   "id": "a652a68a",
   "metadata": {},
   "outputs": [],
   "source": [
    "import numpy as np\n",
    "import pandas as pd"
   ]
  },
  {
   "cell_type": "code",
   "execution_count": 16,
   "id": "de9604ad",
   "metadata": {},
   "outputs": [],
   "source": [
    "a = np.array([[7, 8, 9]])"
   ]
  },
  {
   "cell_type": "code",
   "execution_count": 17,
   "id": "db84e3fb",
   "metadata": {},
   "outputs": [
    {
     "data": {
      "text/plain": [
       "b'\\x07\\x00\\x00\\x00\\x08\\x00\\x00\\x00\\t\\x00\\x00\\x00'"
      ]
     },
     "execution_count": 17,
     "metadata": {},
     "output_type": "execute_result"
    }
   ],
   "source": [
    "a.tobytes()"
   ]
  },
  {
   "cell_type": "code",
   "execution_count": 18,
   "id": "16e8b1ac",
   "metadata": {},
   "outputs": [],
   "source": [
    "b = pd.DataFrame(a)"
   ]
  },
  {
   "cell_type": "code",
   "execution_count": 19,
   "id": "0493d23b",
   "metadata": {},
   "outputs": [
    {
     "data": {
      "text/html": [
       "<div>\n",
       "<style scoped>\n",
       "    .dataframe tbody tr th:only-of-type {\n",
       "        vertical-align: middle;\n",
       "    }\n",
       "\n",
       "    .dataframe tbody tr th {\n",
       "        vertical-align: top;\n",
       "    }\n",
       "\n",
       "    .dataframe thead th {\n",
       "        text-align: right;\n",
       "    }\n",
       "</style>\n",
       "<table border=\"1\" class=\"dataframe\">\n",
       "  <thead>\n",
       "    <tr style=\"text-align: right;\">\n",
       "      <th></th>\n",
       "      <th>0</th>\n",
       "      <th>1</th>\n",
       "      <th>2</th>\n",
       "    </tr>\n",
       "  </thead>\n",
       "  <tbody>\n",
       "    <tr>\n",
       "      <th>0</th>\n",
       "      <td>7</td>\n",
       "      <td>8</td>\n",
       "      <td>9</td>\n",
       "    </tr>\n",
       "  </tbody>\n",
       "</table>\n",
       "</div>"
      ],
      "text/plain": [
       "   0  1  2\n",
       "0  7  8  9"
      ]
     },
     "execution_count": 19,
     "metadata": {},
     "output_type": "execute_result"
    }
   ],
   "source": [
    "b"
   ]
  },
  {
   "cell_type": "code",
   "execution_count": 20,
   "id": "1a1952c3",
   "metadata": {},
   "outputs": [],
   "source": [
    "mountain_height = pd.Series([2061, 2035.8, 2028.5, 2022.5, 2016.4])"
   ]
  },
  {
   "cell_type": "code",
   "execution_count": 21,
   "id": "6fd925d5",
   "metadata": {},
   "outputs": [
    {
     "data": {
      "text/plain": [
       "0    2061.0\n",
       "1    2035.8\n",
       "2    2028.5\n",
       "3    2022.5\n",
       "4    2016.4\n",
       "dtype: float64"
      ]
     },
     "execution_count": 21,
     "metadata": {},
     "output_type": "execute_result"
    }
   ],
   "source": [
    "mountain_height\n"
   ]
  },
  {
   "cell_type": "code",
   "execution_count": 23,
   "id": "5ecb8a1f",
   "metadata": {},
   "outputs": [],
   "source": [
    "mountain_height = pd.Series(\n",
    "    data = [2061, 2035.8, 2028.5, 2022.5, 2016.4],\n",
    "    index = [\"Goverla\", \"Brebenskyl\", \"Pip_Ivan\", \"Petros\", \"Gutin_Tomnatik\"],\n",
    "    name = 'Mountains height',\n",
    "    dtype = float\n",
    ")"
   ]
  },
  {
   "cell_type": "code",
   "execution_count": 24,
   "id": "67d9cd08",
   "metadata": {},
   "outputs": [
    {
     "data": {
      "text/plain": [
       "Goverla           2061.0\n",
       "Brebenskyl        2035.8\n",
       "Pip_Ivan          2028.5\n",
       "Petros            2022.5\n",
       "Gutin_Tomnatik    2016.4\n",
       "Name: Mountains height, dtype: float64"
      ]
     },
     "execution_count": 24,
     "metadata": {},
     "output_type": "execute_result"
    }
   ],
   "source": [
    "mountain_height\n"
   ]
  },
  {
   "cell_type": "code",
   "execution_count": 30,
   "id": "a959367f",
   "metadata": {},
   "outputs": [
    {
     "name": "stdout",
     "output_type": "stream",
     "text": [
      "2061.0\n"
     ]
    }
   ],
   "source": [
    "print(mountain_height['Goverla'])"
   ]
  },
  {
   "cell_type": "code",
   "execution_count": 32,
   "id": "16365a47",
   "metadata": {},
   "outputs": [
    {
     "name": "stdout",
     "output_type": "stream",
     "text": [
      "Goverla     2061.0\n",
      "Pip_Ivan    2028.5\n",
      "Name: Mountains height, dtype: float64\n"
     ]
    }
   ],
   "source": [
    "print(mountain_height[['Goverla', 'Pip_Ivan']])"
   ]
  },
  {
   "cell_type": "code",
   "execution_count": 36,
   "id": "fdb26e21",
   "metadata": {},
   "outputs": [
    {
     "name": "stdout",
     "output_type": "stream",
     "text": [
      "Goverla            True\n",
      "Brebenskyl         True\n",
      "Pip_Ivan          False\n",
      "Petros            False\n",
      "Gutin_Tomnatik    False\n",
      "Name: Mountains height, dtype: bool\n"
     ]
    }
   ],
   "source": [
    "print(mountain_height > 2030)"
   ]
  },
  {
   "cell_type": "code",
   "execution_count": 37,
   "id": "ea7aa6d7",
   "metadata": {},
   "outputs": [
    {
     "name": "stdout",
     "output_type": "stream",
     "text": [
      "True\n"
     ]
    }
   ],
   "source": [
    "print('Goverla' in mountain_height)"
   ]
  },
  {
   "cell_type": "code",
   "execution_count": 38,
   "id": "5fa6ab45",
   "metadata": {},
   "outputs": [],
   "source": [
    "mountain_height.sort_index(inplace=True)"
   ]
  },
  {
   "cell_type": "code",
   "execution_count": 39,
   "id": "a7597927",
   "metadata": {},
   "outputs": [
    {
     "data": {
      "text/plain": [
       "Brebenskyl        2035.8\n",
       "Goverla           2061.0\n",
       "Gutin_Tomnatik    2016.4\n",
       "Petros            2022.5\n",
       "Pip_Ivan          2028.5\n",
       "Name: Mountains height, dtype: float64"
      ]
     },
     "execution_count": 39,
     "metadata": {},
     "output_type": "execute_result"
    }
   ],
   "source": [
    "mountain_height"
   ]
  },
  {
   "cell_type": "code",
   "execution_count": 40,
   "id": "7ecd9811",
   "metadata": {},
   "outputs": [
    {
     "data": {
      "text/plain": [
       "Gutin_Tomnatik    2016.4\n",
       "Petros            2022.5\n",
       "Pip_Ivan          2028.5\n",
       "Brebenskyl        2035.8\n",
       "Goverla           2061.0\n",
       "Name: Mountains height, dtype: float64"
      ]
     },
     "execution_count": 40,
     "metadata": {},
     "output_type": "execute_result"
    }
   ],
   "source": [
    "mountain_height.sort_values()"
   ]
  },
  {
   "cell_type": "code",
   "execution_count": 41,
   "id": "691355ad",
   "metadata": {},
   "outputs": [
    {
     "name": "stdout",
     "output_type": "stream",
     "text": [
      "            name                          email           phone  favorite\n",
      "1  Allen Raymond      nulla.ante@vestibul.co.uk  (992) 914-3792     False\n",
      "2    Chaim Lewis            dui.in@egetlacus.ca  (294) 840-6685     False\n",
      "3   Kennedy Lane  mattis.Cras@nonenimMauris.net  (542) 451-7038      True\n",
      "4     Wylie Pope              est@utquamvel.net  (692) 802-2949     False\n",
      "5  Cyrus Jackson         nibh@semsempererat.com  (501) 472-5218      True\n"
     ]
    }
   ],
   "source": [
    "contacts = pd.DataFrame(\n",
    "    {\n",
    "        \"name\": [\n",
    "            \"Allen Raymond\",\n",
    "            \"Chaim Lewis\",\n",
    "            \"Kennedy Lane\",\n",
    "            \"Wylie Pope\",\n",
    "            \"Cyrus Jackson\",\n",
    "        ],\n",
    "        \"email\": [\n",
    "            \"nulla.ante@vestibul.co.uk\",\n",
    "            \"dui.in@egetlacus.ca\",\n",
    "            \"mattis.Cras@nonenimMauris.net\",\n",
    "            \"est@utquamvel.net\",\n",
    "            \"nibh@semsempererat.com\",\n",
    "        ],\n",
    "        \"phone\": [\n",
    "            \"(992) 914-3792\",\n",
    "            \"(294) 840-6685\",\n",
    "            \"(542) 451-7038\",\n",
    "            \"(692) 802-2949\",\n",
    "            \"(501) 472-5218\",\n",
    "        ],\n",
    "        \"favorite\": [False, False, True, False, True],\n",
    "    },\n",
    "    index=[1, 2, 3, 4, 5],\n",
    ")\n",
    "\n",
    "print(contacts)"
   ]
  },
  {
   "cell_type": "code",
   "execution_count": 42,
   "id": "fccd6eee",
   "metadata": {},
   "outputs": [
    {
     "data": {
      "text/plain": [
       "1    Allen Raymond\n",
       "2      Chaim Lewis\n",
       "3     Kennedy Lane\n",
       "4       Wylie Pope\n",
       "5    Cyrus Jackson\n",
       "Name: name, dtype: object"
      ]
     },
     "execution_count": 42,
     "metadata": {},
     "output_type": "execute_result"
    }
   ],
   "source": [
    "contacts['name']"
   ]
  },
  {
   "cell_type": "code",
   "execution_count": 43,
   "id": "543aa62b",
   "metadata": {},
   "outputs": [
    {
     "data": {
      "text/plain": [
       "name                    Allen Raymond\n",
       "email       nulla.ante@vestibul.co.uk\n",
       "phone                  (992) 914-3792\n",
       "favorite                        False\n",
       "Name: 1, dtype: object"
      ]
     },
     "execution_count": 43,
     "metadata": {},
     "output_type": "execute_result"
    }
   ],
   "source": [
    "contacts.loc[1]"
   ]
  },
  {
   "cell_type": "code",
   "execution_count": 44,
   "id": "a6959c9e",
   "metadata": {},
   "outputs": [
    {
     "data": {
      "text/plain": [
       "name                Chaim Lewis\n",
       "email       dui.in@egetlacus.ca\n",
       "phone            (294) 840-6685\n",
       "favorite                  False\n",
       "Name: 2, dtype: object"
      ]
     },
     "execution_count": 44,
     "metadata": {},
     "output_type": "execute_result"
    }
   ],
   "source": [
    "contacts.iloc[1]"
   ]
  },
  {
   "cell_type": "code",
   "execution_count": 45,
   "id": "f8300e3e",
   "metadata": {},
   "outputs": [
    {
     "data": {
      "text/html": [
       "<div>\n",
       "<style scoped>\n",
       "    .dataframe tbody tr th:only-of-type {\n",
       "        vertical-align: middle;\n",
       "    }\n",
       "\n",
       "    .dataframe tbody tr th {\n",
       "        vertical-align: top;\n",
       "    }\n",
       "\n",
       "    .dataframe thead th {\n",
       "        text-align: right;\n",
       "    }\n",
       "</style>\n",
       "<table border=\"1\" class=\"dataframe\">\n",
       "  <thead>\n",
       "    <tr style=\"text-align: right;\">\n",
       "      <th></th>\n",
       "      <th>name</th>\n",
       "      <th>email</th>\n",
       "      <th>phone</th>\n",
       "      <th>favorite</th>\n",
       "    </tr>\n",
       "  </thead>\n",
       "  <tbody>\n",
       "    <tr>\n",
       "      <th>1</th>\n",
       "      <td>Allen Raymond</td>\n",
       "      <td>nulla.ante@vestibul.co.uk</td>\n",
       "      <td>(992) 914-3792</td>\n",
       "      <td>False</td>\n",
       "    </tr>\n",
       "    <tr>\n",
       "      <th>2</th>\n",
       "      <td>Chaim Lewis</td>\n",
       "      <td>dui.in@egetlacus.ca</td>\n",
       "      <td>(294) 840-6685</td>\n",
       "      <td>False</td>\n",
       "    </tr>\n",
       "    <tr>\n",
       "      <th>3</th>\n",
       "      <td>Kennedy Lane</td>\n",
       "      <td>mattis.Cras@nonenimMauris.net</td>\n",
       "      <td>(542) 451-7038</td>\n",
       "      <td>True</td>\n",
       "    </tr>\n",
       "  </tbody>\n",
       "</table>\n",
       "</div>"
      ],
      "text/plain": [
       "            name                          email           phone  favorite\n",
       "1  Allen Raymond      nulla.ante@vestibul.co.uk  (992) 914-3792     False\n",
       "2    Chaim Lewis            dui.in@egetlacus.ca  (294) 840-6685     False\n",
       "3   Kennedy Lane  mattis.Cras@nonenimMauris.net  (542) 451-7038      True"
      ]
     },
     "execution_count": 45,
     "metadata": {},
     "output_type": "execute_result"
    }
   ],
   "source": [
    "contacts[0:3]"
   ]
  },
  {
   "cell_type": "code",
   "execution_count": 46,
   "id": "66f12d41",
   "metadata": {},
   "outputs": [
    {
     "data": {
      "text/html": [
       "<div>\n",
       "<style scoped>\n",
       "    .dataframe tbody tr th:only-of-type {\n",
       "        vertical-align: middle;\n",
       "    }\n",
       "\n",
       "    .dataframe tbody tr th {\n",
       "        vertical-align: top;\n",
       "    }\n",
       "\n",
       "    .dataframe thead th {\n",
       "        text-align: right;\n",
       "    }\n",
       "</style>\n",
       "<table border=\"1\" class=\"dataframe\">\n",
       "  <thead>\n",
       "    <tr style=\"text-align: right;\">\n",
       "      <th></th>\n",
       "      <th>name</th>\n",
       "      <th>email</th>\n",
       "      <th>phone</th>\n",
       "      <th>favorite</th>\n",
       "    </tr>\n",
       "  </thead>\n",
       "  <tbody>\n",
       "    <tr>\n",
       "      <th>3</th>\n",
       "      <td>Kennedy Lane</td>\n",
       "      <td>mattis.Cras@nonenimMauris.net</td>\n",
       "      <td>(542) 451-7038</td>\n",
       "      <td>True</td>\n",
       "    </tr>\n",
       "    <tr>\n",
       "      <th>5</th>\n",
       "      <td>Cyrus Jackson</td>\n",
       "      <td>nibh@semsempererat.com</td>\n",
       "      <td>(501) 472-5218</td>\n",
       "      <td>True</td>\n",
       "    </tr>\n",
       "  </tbody>\n",
       "</table>\n",
       "</div>"
      ],
      "text/plain": [
       "            name                          email           phone  favorite\n",
       "3   Kennedy Lane  mattis.Cras@nonenimMauris.net  (542) 451-7038      True\n",
       "5  Cyrus Jackson         nibh@semsempererat.com  (501) 472-5218      True"
      ]
     },
     "execution_count": 46,
     "metadata": {},
     "output_type": "execute_result"
    }
   ],
   "source": [
    "contacts[contacts['favorite']]"
   ]
  },
  {
   "cell_type": "code",
   "execution_count": null,
   "id": "b9623ec1",
   "metadata": {},
   "outputs": [],
   "source": []
  }
 ],
 "metadata": {
  "kernelspec": {
   "display_name": "Python 3 (ipykernel)",
   "language": "python",
   "name": "python3"
  },
  "language_info": {
   "codemirror_mode": {
    "name": "ipython",
    "version": 3
   },
   "file_extension": ".py",
   "mimetype": "text/x-python",
   "name": "python",
   "nbconvert_exporter": "python",
   "pygments_lexer": "ipython3",
   "version": "3.9.9"
  }
 },
 "nbformat": 4,
 "nbformat_minor": 5
}
