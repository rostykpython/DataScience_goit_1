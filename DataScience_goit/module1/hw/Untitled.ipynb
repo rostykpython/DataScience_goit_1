{
 "cells": [
  {
   "cell_type": "code",
   "execution_count": 1,
   "id": "b6ef3d06",
   "metadata": {},
   "outputs": [],
   "source": [
    "import numpy as np"
   ]
  },
  {
   "cell_type": "code",
   "execution_count": 2,
   "id": "8dd727c1",
   "metadata": {},
   "outputs": [],
   "source": [
    "a = np.array([[3, -4, 1], [-1, -5, 3], [1, -1, 1]])"
   ]
  },
  {
   "cell_type": "code",
   "execution_count": 3,
   "id": "0d5be971",
   "metadata": {},
   "outputs": [
    {
     "data": {
      "text/plain": [
       "-15.999999999999998"
      ]
     },
     "execution_count": 3,
     "metadata": {},
     "output_type": "execute_result"
    }
   ],
   "source": [
    "np.linalg.det(a)"
   ]
  },
  {
   "cell_type": "code",
   "execution_count": 4,
   "id": "8e66a18c",
   "metadata": {},
   "outputs": [],
   "source": [
    "b = np.array([[3, -1, 1], [1, -5, 3], [1, -1, 1]])"
   ]
  },
  {
   "cell_type": "code",
   "execution_count": 5,
   "id": "baf8bc54",
   "metadata": {},
   "outputs": [
    {
     "data": {
      "text/plain": [
       "-4.000000000000002"
      ]
     },
     "execution_count": 5,
     "metadata": {},
     "output_type": "execute_result"
    }
   ],
   "source": [
    "np.linalg.det(b)"
   ]
  },
  {
   "cell_type": "code",
   "execution_count": 6,
   "id": "1a0d9a47",
   "metadata": {},
   "outputs": [],
   "source": [
    "c = np.array([[2, -4, 1], [3, -1, 1], [1, -1, 1]])"
   ]
  },
  {
   "cell_type": "code",
   "execution_count": 7,
   "id": "10919c03",
   "metadata": {},
   "outputs": [
    {
     "data": {
      "text/plain": [
       "6.000000000000003"
      ]
     },
     "execution_count": 7,
     "metadata": {},
     "output_type": "execute_result"
    }
   ],
   "source": [
    "np.linalg.det(c)"
   ]
  },
  {
   "cell_type": "code",
   "execution_count": 8,
   "id": "dbf4e09a",
   "metadata": {},
   "outputs": [],
   "source": [
    "d = np.array([[2, -4, 1], [3, -1, 1], [1, -1, 1]])"
   ]
  },
  {
   "cell_type": "code",
   "execution_count": 9,
   "id": "8b002fcb",
   "metadata": {},
   "outputs": [
    {
     "data": {
      "text/plain": [
       "array([[ 3, -4,  1],\n",
       "       [-1, -5,  3],\n",
       "       [ 1, -1,  1]])"
      ]
     },
     "execution_count": 9,
     "metadata": {},
     "output_type": "execute_result"
    }
   ],
   "source": [
    "a"
   ]
  },
  {
   "cell_type": "code",
   "execution_count": 10,
   "id": "fc4832be",
   "metadata": {},
   "outputs": [],
   "source": [
    "p = np.array([[3, -1, 1]]).reshape(3, 1)"
   ]
  },
  {
   "cell_type": "code",
   "execution_count": 11,
   "id": "6a0de7a5",
   "metadata": {},
   "outputs": [
    {
     "data": {
      "text/plain": [
       "array([[ 3],\n",
       "       [-1],\n",
       "       [ 1]])"
      ]
     },
     "execution_count": 11,
     "metadata": {},
     "output_type": "execute_result"
    }
   ],
   "source": [
    "p"
   ]
  },
  {
   "cell_type": "code",
   "execution_count": 12,
   "id": "d5e666e4",
   "metadata": {},
   "outputs": [
    {
     "data": {
      "text/plain": [
       "array([[ 1.],\n",
       "       [-0.],\n",
       "       [ 0.]])"
      ]
     },
     "execution_count": 12,
     "metadata": {},
     "output_type": "execute_result"
    }
   ],
   "source": [
    "np.linalg.solve(a, p)"
   ]
  },
  {
   "cell_type": "code",
   "execution_count": 15,
   "id": "7ebe20be",
   "metadata": {},
   "outputs": [],
   "source": [
    "a = np.array([[5, -3, 2, 4], [4, -2, 3, 7], [3, -6, -1, -5], [7, -3, 7, 17]])"
   ]
  },
  {
   "cell_type": "code",
   "execution_count": 19,
   "id": "5f1bd23b",
   "metadata": {},
   "outputs": [],
   "source": [
    "a_inv = np.linalg.inv(a)"
   ]
  },
  {
   "cell_type": "code",
   "execution_count": 20,
   "id": "0d30501e",
   "metadata": {},
   "outputs": [],
   "source": [
    "b = np.array([[3, 1, 9, 0]]).reshape(4, 1)"
   ]
  },
  {
   "cell_type": "code",
   "execution_count": 21,
   "id": "01e330d2",
   "metadata": {},
   "outputs": [
    {
     "data": {
      "text/plain": [
       "array([[3],\n",
       "       [1],\n",
       "       [9],\n",
       "       [0]])"
      ]
     },
     "execution_count": 21,
     "metadata": {},
     "output_type": "execute_result"
    }
   ],
   "source": [
    "b"
   ]
  },
  {
   "cell_type": "code",
   "execution_count": 23,
   "id": "4a8a52ab",
   "metadata": {},
   "outputs": [
    {
     "data": {
      "text/plain": [
       "array([[-1.26882631e-16],\n",
       "       [-1.40000000e+00],\n",
       "       [-6.00000000e-01],\n",
       "       [ 0.00000000e+00]])"
      ]
     },
     "execution_count": 23,
     "metadata": {},
     "output_type": "execute_result"
    }
   ],
   "source": [
    "np.linalg.solve(a, b)"
   ]
  },
  {
   "cell_type": "code",
   "execution_count": 24,
   "id": "63ff706b",
   "metadata": {},
   "outputs": [
    {
     "data": {
      "text/plain": [
       "array([[-1.44285714],\n",
       "       [-2.3325    ],\n",
       "       [-0.93625   ],\n",
       "       [ 0.40625   ]])"
      ]
     },
     "execution_count": 24,
     "metadata": {},
     "output_type": "execute_result"
    }
   ],
   "source": [
    "a_inv.dot(b)"
   ]
  },
  {
   "cell_type": "code",
   "execution_count": null,
   "id": "c0640f4e",
   "metadata": {},
   "outputs": [],
   "source": []
  }
 ],
 "metadata": {
  "kernelspec": {
   "display_name": "Python 3 (ipykernel)",
   "language": "python",
   "name": "python3"
  },
  "language_info": {
   "codemirror_mode": {
    "name": "ipython",
    "version": 3
   },
   "file_extension": ".py",
   "mimetype": "text/x-python",
   "name": "python",
   "nbconvert_exporter": "python",
   "pygments_lexer": "ipython3",
   "version": "3.9.7"
  }
 },
 "nbformat": 4,
 "nbformat_minor": 5
}
