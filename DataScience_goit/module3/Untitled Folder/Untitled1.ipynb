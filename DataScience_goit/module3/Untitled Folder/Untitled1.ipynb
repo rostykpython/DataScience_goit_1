{
 "cells": [
  {
   "cell_type": "code",
   "execution_count": 1,
   "id": "366e8fb1",
   "metadata": {},
   "outputs": [],
   "source": [
    "import numpy as np\n",
    "import matplotlib.pyplot as plt\n"
   ]
  },
  {
   "cell_type": "code",
   "execution_count": 13,
   "id": "066ba4d2",
   "metadata": {},
   "outputs": [],
   "source": [
    "N = 10000000\n",
    "\n",
    "points_x = np.random.random(size=N)\n",
    "points_y = np.random.random(size=N)"
   ]
  },
  {
   "cell_type": "code",
   "execution_count": 14,
   "id": "fe0956ac",
   "metadata": {},
   "outputs": [
    {
     "name": "stdout",
     "output_type": "stream",
     "text": [
      "3.1415324\n"
     ]
    }
   ],
   "source": [
    "k = 0\n",
    "for x, y in zip(points_x, points_y):\n",
    "  if y <= np.sqrt(1 - x ** 2):\n",
    "    k+=1\n",
    "\n",
    "approx_pi = 4 * k/N\n",
    "print(approx_pi)"
   ]
  },
  {
   "cell_type": "code",
   "execution_count": null,
   "id": "5c972c75",
   "metadata": {},
   "outputs": [],
   "source": []
  }
 ],
 "metadata": {
  "kernelspec": {
   "display_name": "Python 3 (ipykernel)",
   "language": "python",
   "name": "python3"
  },
  "language_info": {
   "codemirror_mode": {
    "name": "ipython",
    "version": 3
   },
   "file_extension": ".py",
   "mimetype": "text/x-python",
   "name": "python",
   "nbconvert_exporter": "python",
   "pygments_lexer": "ipython3",
   "version": "3.9.7"
  }
 },
 "nbformat": 4,
 "nbformat_minor": 5
}
