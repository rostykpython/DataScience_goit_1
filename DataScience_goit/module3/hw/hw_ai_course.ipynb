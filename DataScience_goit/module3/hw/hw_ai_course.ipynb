{
 "cells": [
  {
   "cell_type": "code",
   "execution_count": 1,
   "id": "33e1dc5a",
   "metadata": {},
   "outputs": [],
   "source": [
    "import pandas as pd\n",
    "import numpy as np"
   ]
  },
  {
   "cell_type": "code",
   "execution_count": 2,
   "id": "20e9d5b4",
   "metadata": {},
   "outputs": [],
   "source": [
    "from matplotlib import pyplot as plt\n",
    "import seaborn as sns"
   ]
  },
  {
   "cell_type": "code",
   "execution_count": 3,
   "id": "e8b12181",
   "metadata": {},
   "outputs": [],
   "source": [
    "data_url = 'D:\\Pycharm_projects\\DataScience_goit\\DataScience_goit\\module3\\course_1\\habr_popularity_data\\howpop_train.csv'"
   ]
  },
  {
   "cell_type": "code",
   "execution_count": 4,
   "id": "1a263a48",
   "metadata": {},
   "outputs": [],
   "source": [
    "data = pd.read_csv(data_url)"
   ]
  },
  {
   "cell_type": "code",
   "execution_count": 5,
   "id": "540ddc66",
   "metadata": {},
   "outputs": [
    {
     "data": {
      "text/html": [
       "<div>\n",
       "<style scoped>\n",
       "    .dataframe tbody tr th:only-of-type {\n",
       "        vertical-align: middle;\n",
       "    }\n",
       "\n",
       "    .dataframe tbody tr th {\n",
       "        vertical-align: top;\n",
       "    }\n",
       "\n",
       "    .dataframe thead th {\n",
       "        text-align: right;\n",
       "    }\n",
       "</style>\n",
       "<table border=\"1\" class=\"dataframe\">\n",
       "  <thead>\n",
       "    <tr style=\"text-align: right;\">\n",
       "      <th></th>\n",
       "      <th>url</th>\n",
       "      <th>domain</th>\n",
       "      <th>post_id</th>\n",
       "      <th>published</th>\n",
       "      <th>author</th>\n",
       "      <th>flow</th>\n",
       "      <th>polling</th>\n",
       "      <th>content_len</th>\n",
       "      <th>title</th>\n",
       "      <th>comments</th>\n",
       "      <th>favs</th>\n",
       "      <th>views</th>\n",
       "      <th>votes_plus</th>\n",
       "      <th>votes_minus</th>\n",
       "      <th>views_lognorm</th>\n",
       "      <th>favs_lognorm</th>\n",
       "      <th>comments_lognorm</th>\n",
       "    </tr>\n",
       "  </thead>\n",
       "  <tbody>\n",
       "    <tr>\n",
       "      <th>0</th>\n",
       "      <td>https://habrahabr.ru/post/18284/</td>\n",
       "      <td>habrahabr.ru</td>\n",
       "      <td>18284</td>\n",
       "      <td>2008-01-01 18:19:00</td>\n",
       "      <td>@Tapac</td>\n",
       "      <td>develop</td>\n",
       "      <td>False</td>\n",
       "      <td>4305</td>\n",
       "      <td>Новогодний подарок блоггерам — WordPress 2.3.2</td>\n",
       "      <td>0</td>\n",
       "      <td>0</td>\n",
       "      <td>236</td>\n",
       "      <td>0.0</td>\n",
       "      <td>0.0</td>\n",
       "      <td>-0.792687</td>\n",
       "      <td>-1.344075</td>\n",
       "      <td>-2.436871</td>\n",
       "    </tr>\n",
       "    <tr>\n",
       "      <th>1</th>\n",
       "      <td>https://habrahabr.ru/post/18285/</td>\n",
       "      <td>habrahabr.ru</td>\n",
       "      <td>18285</td>\n",
       "      <td>2008-01-01 18:30:00</td>\n",
       "      <td>@DezmASter</td>\n",
       "      <td>design</td>\n",
       "      <td>False</td>\n",
       "      <td>7344</td>\n",
       "      <td>Сумасшедшие яйца, или сервис для отслеживания ...</td>\n",
       "      <td>1</td>\n",
       "      <td>1</td>\n",
       "      <td>353</td>\n",
       "      <td>1.0</td>\n",
       "      <td>0.0</td>\n",
       "      <td>-0.485214</td>\n",
       "      <td>-0.831946</td>\n",
       "      <td>-1.873193</td>\n",
       "    </tr>\n",
       "    <tr>\n",
       "      <th>2</th>\n",
       "      <td>https://habrahabr.ru/post/18286/</td>\n",
       "      <td>habrahabr.ru</td>\n",
       "      <td>18286</td>\n",
       "      <td>2008-01-01 18:34:00</td>\n",
       "      <td>@DezmASter</td>\n",
       "      <td>design</td>\n",
       "      <td>False</td>\n",
       "      <td>8431</td>\n",
       "      <td>Сумасшедшие яйца, или сервис для отслеживания ...</td>\n",
       "      <td>47</td>\n",
       "      <td>72</td>\n",
       "      <td>1200</td>\n",
       "      <td>45.0</td>\n",
       "      <td>5.0</td>\n",
       "      <td>0.446090</td>\n",
       "      <td>1.794023</td>\n",
       "      <td>0.574656</td>\n",
       "    </tr>\n",
       "    <tr>\n",
       "      <th>3</th>\n",
       "      <td>https://habrahabr.ru/post/18291/</td>\n",
       "      <td>habrahabr.ru</td>\n",
       "      <td>18291</td>\n",
       "      <td>2008-01-02 01:32:00</td>\n",
       "      <td>@Taoorus</td>\n",
       "      <td>design</td>\n",
       "      <td>False</td>\n",
       "      <td>5662</td>\n",
       "      <td>Сглаживание шрифтов, и субпиксельная отрисовка</td>\n",
       "      <td>102</td>\n",
       "      <td>36</td>\n",
       "      <td>5700</td>\n",
       "      <td>72.0</td>\n",
       "      <td>3.0</td>\n",
       "      <td>1.627469</td>\n",
       "      <td>1.300050</td>\n",
       "      <td>1.167375</td>\n",
       "    </tr>\n",
       "    <tr>\n",
       "      <th>4</th>\n",
       "      <td>https://geektimes.ru/post/18294/</td>\n",
       "      <td>geektimes.ru</td>\n",
       "      <td>18294</td>\n",
       "      <td>2008-01-02 14:34:00</td>\n",
       "      <td>@dennydo</td>\n",
       "      <td>NaN</td>\n",
       "      <td>False</td>\n",
       "      <td>3706</td>\n",
       "      <td>Почему мне не нравится iPhone</td>\n",
       "      <td>230</td>\n",
       "      <td>6</td>\n",
       "      <td>1400</td>\n",
       "      <td>73.0</td>\n",
       "      <td>15.0</td>\n",
       "      <td>1.362397</td>\n",
       "      <td>0.961094</td>\n",
       "      <td>2.020356</td>\n",
       "    </tr>\n",
       "  </tbody>\n",
       "</table>\n",
       "</div>"
      ],
      "text/plain": [
       "                                url        domain  post_id  \\\n",
       "0  https://habrahabr.ru/post/18284/  habrahabr.ru    18284   \n",
       "1  https://habrahabr.ru/post/18285/  habrahabr.ru    18285   \n",
       "2  https://habrahabr.ru/post/18286/  habrahabr.ru    18286   \n",
       "3  https://habrahabr.ru/post/18291/  habrahabr.ru    18291   \n",
       "4  https://geektimes.ru/post/18294/  geektimes.ru    18294   \n",
       "\n",
       "             published      author     flow  polling  content_len  \\\n",
       "0  2008-01-01 18:19:00      @Tapac  develop    False         4305   \n",
       "1  2008-01-01 18:30:00  @DezmASter   design    False         7344   \n",
       "2  2008-01-01 18:34:00  @DezmASter   design    False         8431   \n",
       "3  2008-01-02 01:32:00    @Taoorus   design    False         5662   \n",
       "4  2008-01-02 14:34:00    @dennydo      NaN    False         3706   \n",
       "\n",
       "                                               title  comments  favs  views  \\\n",
       "0     Новогодний подарок блоггерам — WordPress 2.3.2         0     0    236   \n",
       "1  Сумасшедшие яйца, или сервис для отслеживания ...         1     1    353   \n",
       "2  Сумасшедшие яйца, или сервис для отслеживания ...        47    72   1200   \n",
       "3     Сглаживание шрифтов, и субпиксельная отрисовка       102    36   5700   \n",
       "4                      Почему мне не нравится iPhone       230     6   1400   \n",
       "\n",
       "   votes_plus  votes_minus  views_lognorm  favs_lognorm  comments_lognorm  \n",
       "0         0.0          0.0      -0.792687     -1.344075         -2.436871  \n",
       "1         1.0          0.0      -0.485214     -0.831946         -1.873193  \n",
       "2        45.0          5.0       0.446090      1.794023          0.574656  \n",
       "3        72.0          3.0       1.627469      1.300050          1.167375  \n",
       "4        73.0         15.0       1.362397      0.961094          2.020356  "
      ]
     },
     "execution_count": 5,
     "metadata": {},
     "output_type": "execute_result"
    }
   ],
   "source": [
    "data.head()"
   ]
  },
  {
   "cell_type": "code",
   "execution_count": 6,
   "id": "eca7f5d5",
   "metadata": {},
   "outputs": [
    {
     "data": {
      "text/plain": [
       "(134137, 17)"
      ]
     },
     "execution_count": 6,
     "metadata": {},
     "output_type": "execute_result"
    }
   ],
   "source": [
    "data.shape"
   ]
  },
  {
   "cell_type": "code",
   "execution_count": 7,
   "id": "19057b04",
   "metadata": {},
   "outputs": [],
   "source": [
    "data.drop(\n",
    "    filter(lambda c: c.endswith(\"_lognorm\"), data.columns),\n",
    "    axis=1,  # axis = 1: столбцы\n",
    "    inplace=True,\n",
    ")"
   ]
  },
  {
   "cell_type": "code",
   "execution_count": 8,
   "id": "c8d75515",
   "metadata": {},
   "outputs": [
    {
     "data": {
      "text/html": [
       "<div>\n",
       "<style scoped>\n",
       "    .dataframe tbody tr th:only-of-type {\n",
       "        vertical-align: middle;\n",
       "    }\n",
       "\n",
       "    .dataframe tbody tr th {\n",
       "        vertical-align: top;\n",
       "    }\n",
       "\n",
       "    .dataframe thead th {\n",
       "        text-align: right;\n",
       "    }\n",
       "</style>\n",
       "<table border=\"1\" class=\"dataframe\">\n",
       "  <thead>\n",
       "    <tr style=\"text-align: right;\">\n",
       "      <th></th>\n",
       "      <th>count</th>\n",
       "      <th>mean</th>\n",
       "      <th>std</th>\n",
       "      <th>min</th>\n",
       "      <th>25%</th>\n",
       "      <th>50%</th>\n",
       "      <th>75%</th>\n",
       "      <th>max</th>\n",
       "    </tr>\n",
       "  </thead>\n",
       "  <tbody>\n",
       "    <tr>\n",
       "      <th>post_id</th>\n",
       "      <td>134137.0</td>\n",
       "      <td>181307.054265</td>\n",
       "      <td>81766.350702</td>\n",
       "      <td>18284.0</td>\n",
       "      <td>115565.0</td>\n",
       "      <td>182666.0</td>\n",
       "      <td>257401.0</td>\n",
       "      <td>314088.0</td>\n",
       "    </tr>\n",
       "    <tr>\n",
       "      <th>content_len</th>\n",
       "      <td>134137.0</td>\n",
       "      <td>7516.929699</td>\n",
       "      <td>8724.771640</td>\n",
       "      <td>1.0</td>\n",
       "      <td>2179.0</td>\n",
       "      <td>4949.0</td>\n",
       "      <td>9858.0</td>\n",
       "      <td>352471.0</td>\n",
       "    </tr>\n",
       "    <tr>\n",
       "      <th>comments</th>\n",
       "      <td>134137.0</td>\n",
       "      <td>39.625994</td>\n",
       "      <td>62.398958</td>\n",
       "      <td>0.0</td>\n",
       "      <td>7.0</td>\n",
       "      <td>19.0</td>\n",
       "      <td>48.0</td>\n",
       "      <td>2266.0</td>\n",
       "    </tr>\n",
       "    <tr>\n",
       "      <th>favs</th>\n",
       "      <td>134137.0</td>\n",
       "      <td>71.999866</td>\n",
       "      <td>145.854135</td>\n",
       "      <td>0.0</td>\n",
       "      <td>8.0</td>\n",
       "      <td>27.0</td>\n",
       "      <td>78.0</td>\n",
       "      <td>8718.0</td>\n",
       "    </tr>\n",
       "    <tr>\n",
       "      <th>views</th>\n",
       "      <td>134137.0</td>\n",
       "      <td>16631.013084</td>\n",
       "      <td>31479.819691</td>\n",
       "      <td>3.0</td>\n",
       "      <td>2100.0</td>\n",
       "      <td>7600.0</td>\n",
       "      <td>18700.0</td>\n",
       "      <td>1730000.0</td>\n",
       "    </tr>\n",
       "    <tr>\n",
       "      <th>votes_plus</th>\n",
       "      <td>133566.0</td>\n",
       "      <td>35.536888</td>\n",
       "      <td>42.461073</td>\n",
       "      <td>0.0</td>\n",
       "      <td>11.0</td>\n",
       "      <td>22.0</td>\n",
       "      <td>45.0</td>\n",
       "      <td>1466.0</td>\n",
       "    </tr>\n",
       "    <tr>\n",
       "      <th>votes_minus</th>\n",
       "      <td>133566.0</td>\n",
       "      <td>8.050035</td>\n",
       "      <td>11.398282</td>\n",
       "      <td>0.0</td>\n",
       "      <td>2.0</td>\n",
       "      <td>5.0</td>\n",
       "      <td>10.0</td>\n",
       "      <td>445.0</td>\n",
       "    </tr>\n",
       "  </tbody>\n",
       "</table>\n",
       "</div>"
      ],
      "text/plain": [
       "                count           mean           std      min       25%  \\\n",
       "post_id      134137.0  181307.054265  81766.350702  18284.0  115565.0   \n",
       "content_len  134137.0    7516.929699   8724.771640      1.0    2179.0   \n",
       "comments     134137.0      39.625994     62.398958      0.0       7.0   \n",
       "favs         134137.0      71.999866    145.854135      0.0       8.0   \n",
       "views        134137.0   16631.013084  31479.819691      3.0    2100.0   \n",
       "votes_plus   133566.0      35.536888     42.461073      0.0      11.0   \n",
       "votes_minus  133566.0       8.050035     11.398282      0.0       2.0   \n",
       "\n",
       "                  50%       75%        max  \n",
       "post_id      182666.0  257401.0   314088.0  \n",
       "content_len    4949.0    9858.0   352471.0  \n",
       "comments         19.0      48.0     2266.0  \n",
       "favs             27.0      78.0     8718.0  \n",
       "views          7600.0   18700.0  1730000.0  \n",
       "votes_plus       22.0      45.0     1466.0  \n",
       "votes_minus       5.0      10.0      445.0  "
      ]
     },
     "execution_count": 8,
     "metadata": {},
     "output_type": "execute_result"
    }
   ],
   "source": [
    "data.describe().T"
   ]
  },
  {
   "cell_type": "code",
   "execution_count": 9,
   "id": "137ddc22",
   "metadata": {},
   "outputs": [
    {
     "data": {
      "text/html": [
       "<div>\n",
       "<style scoped>\n",
       "    .dataframe tbody tr th:only-of-type {\n",
       "        vertical-align: middle;\n",
       "    }\n",
       "\n",
       "    .dataframe tbody tr th {\n",
       "        vertical-align: top;\n",
       "    }\n",
       "\n",
       "    .dataframe thead th {\n",
       "        text-align: right;\n",
       "    }\n",
       "</style>\n",
       "<table border=\"1\" class=\"dataframe\">\n",
       "  <thead>\n",
       "    <tr style=\"text-align: right;\">\n",
       "      <th></th>\n",
       "      <th>count</th>\n",
       "      <th>unique</th>\n",
       "      <th>top</th>\n",
       "      <th>freq</th>\n",
       "    </tr>\n",
       "  </thead>\n",
       "  <tbody>\n",
       "    <tr>\n",
       "      <th>url</th>\n",
       "      <td>134137</td>\n",
       "      <td>134137</td>\n",
       "      <td>https://habrahabr.ru/post/18284/</td>\n",
       "      <td>1</td>\n",
       "    </tr>\n",
       "    <tr>\n",
       "      <th>domain</th>\n",
       "      <td>134137</td>\n",
       "      <td>2</td>\n",
       "      <td>habrahabr.ru</td>\n",
       "      <td>97048</td>\n",
       "    </tr>\n",
       "    <tr>\n",
       "      <th>published</th>\n",
       "      <td>134137</td>\n",
       "      <td>130291</td>\n",
       "      <td>2011-06-14 15:52:00</td>\n",
       "      <td>39</td>\n",
       "    </tr>\n",
       "    <tr>\n",
       "      <th>author</th>\n",
       "      <td>97657</td>\n",
       "      <td>22077</td>\n",
       "      <td>@alizar</td>\n",
       "      <td>5292</td>\n",
       "    </tr>\n",
       "    <tr>\n",
       "      <th>flow</th>\n",
       "      <td>97048</td>\n",
       "      <td>6</td>\n",
       "      <td>develop</td>\n",
       "      <td>53318</td>\n",
       "    </tr>\n",
       "    <tr>\n",
       "      <th>polling</th>\n",
       "      <td>134137</td>\n",
       "      <td>2</td>\n",
       "      <td>False</td>\n",
       "      <td>129412</td>\n",
       "    </tr>\n",
       "    <tr>\n",
       "      <th>title</th>\n",
       "      <td>134137</td>\n",
       "      <td>133628</td>\n",
       "      <td>Интересные события, произошедшие в выходные</td>\n",
       "      <td>56</td>\n",
       "    </tr>\n",
       "  </tbody>\n",
       "</table>\n",
       "</div>"
      ],
      "text/plain": [
       "            count  unique                                          top    freq\n",
       "url        134137  134137             https://habrahabr.ru/post/18284/       1\n",
       "domain     134137       2                                 habrahabr.ru   97048\n",
       "published  134137  130291                          2011-06-14 15:52:00      39\n",
       "author      97657   22077                                      @alizar    5292\n",
       "flow        97048       6                                      develop   53318\n",
       "polling    134137       2                                        False  129412\n",
       "title      134137  133628  Интересные события, произошедшие в выходные      56"
      ]
     },
     "execution_count": 9,
     "metadata": {},
     "output_type": "execute_result"
    }
   ],
   "source": [
    "data.describe(include=[\"object\", \"bool\"]).T  # бинарные и категориальные переменные"
   ]
  },
  {
   "cell_type": "code",
   "execution_count": 10,
   "id": "a68d1e0d",
   "metadata": {},
   "outputs": [],
   "source": [
    "# настройка внешнего вида графиков в seaborn\n",
    "sns.set_style(\"dark\")\n",
    "sns.set_palette(\"RdBu\")\n",
    "sns.set_context(\n",
    "    \"notebook\", font_scale=1.5, rc={\"figure.figsize\": (15, 5), \"axes.titlesize\": 18}\n",
    ")"
   ]
  },
  {
   "cell_type": "code",
   "execution_count": 11,
   "id": "cd1502ff",
   "metadata": {},
   "outputs": [
    {
     "name": "stdout",
     "output_type": "stream",
     "text": [
      "object\n",
      "datetime64[ns]\n"
     ]
    }
   ],
   "source": [
    "print(data.published.dtype)\n",
    "data[\"published\"] = pd.to_datetime(data.published, yearfirst=True)\n",
    "print(data.published.dtype)"
   ]
  },
  {
   "cell_type": "code",
   "execution_count": 12,
   "id": "9a38799e",
   "metadata": {},
   "outputs": [],
   "source": [
    "data[\"year\"] = [d.year for d in data.published]\n",
    "data[\"month\"] = [d.month for d in data.published]\n",
    "\n",
    "data[\"dayofweek\"] = [d.isoweekday() for d in data.published]\n",
    "data[\"hour\"] = [d.hour for d in data.published]"
   ]
  },
  {
   "cell_type": "markdown",
   "id": "5581e082",
   "metadata": {},
   "source": [
    "# 1. В каком месяце (и какого года) было больше всего публикаций?  \n",
    "март 2016  \n",
    "март 2015  \n",
    "апрель 2015  \n",
    "апрель 2016  "
   ]
  },
  {
   "cell_type": "code",
   "execution_count": 13,
   "id": "e25096d3",
   "metadata": {},
   "outputs": [
    {
     "data": {
      "text/plain": [
       "Index(['url', 'domain', 'post_id', 'published', 'author', 'flow', 'polling',\n",
       "       'content_len', 'title', 'comments', 'favs', 'views', 'votes_plus',\n",
       "       'votes_minus', 'year', 'month', 'dayofweek', 'hour'],\n",
       "      dtype='object')"
      ]
     },
     "execution_count": 13,
     "metadata": {},
     "output_type": "execute_result"
    }
   ],
   "source": [
    "data.columns"
   ]
  },
  {
   "cell_type": "code",
   "execution_count": 14,
   "id": "d22baf5e",
   "metadata": {},
   "outputs": [
    {
     "data": {
      "text/plain": [
       "array([2008, 2009, 2010, 2011, 2012, 2013, 2014, 2015, 2016], dtype=int64)"
      ]
     },
     "execution_count": 14,
     "metadata": {},
     "output_type": "execute_result"
    }
   ],
   "source": [
    "data.year.unique()"
   ]
  },
  {
   "cell_type": "code",
   "execution_count": 15,
   "id": "1682a354",
   "metadata": {},
   "outputs": [
    {
     "data": {
      "text/plain": [
       "array([ 1,  2,  3,  4,  5,  6,  7,  8,  9, 10, 11, 12], dtype=int64)"
      ]
     },
     "execution_count": 15,
     "metadata": {},
     "output_type": "execute_result"
    }
   ],
   "source": [
    "data.month.unique()"
   ]
  },
  {
   "cell_type": "code",
   "execution_count": 16,
   "id": "b0078e46",
   "metadata": {},
   "outputs": [
    {
     "data": {
      "text/html": [
       "<div>\n",
       "<style scoped>\n",
       "    .dataframe tbody tr th:only-of-type {\n",
       "        vertical-align: middle;\n",
       "    }\n",
       "\n",
       "    .dataframe tbody tr th {\n",
       "        vertical-align: top;\n",
       "    }\n",
       "\n",
       "    .dataframe thead th {\n",
       "        text-align: right;\n",
       "    }\n",
       "</style>\n",
       "<table border=\"1\" class=\"dataframe\">\n",
       "  <thead>\n",
       "    <tr style=\"text-align: right;\">\n",
       "      <th></th>\n",
       "      <th>url</th>\n",
       "      <th>domain</th>\n",
       "      <th>post_id</th>\n",
       "      <th>published</th>\n",
       "      <th>author</th>\n",
       "      <th>flow</th>\n",
       "      <th>polling</th>\n",
       "      <th>content_len</th>\n",
       "      <th>title</th>\n",
       "      <th>comments</th>\n",
       "      <th>favs</th>\n",
       "      <th>views</th>\n",
       "      <th>votes_plus</th>\n",
       "      <th>votes_minus</th>\n",
       "      <th>year</th>\n",
       "      <th>month</th>\n",
       "      <th>dayofweek</th>\n",
       "      <th>hour</th>\n",
       "    </tr>\n",
       "  </thead>\n",
       "  <tbody>\n",
       "    <tr>\n",
       "      <th>0</th>\n",
       "      <td>https://habrahabr.ru/post/18284/</td>\n",
       "      <td>habrahabr.ru</td>\n",
       "      <td>18284</td>\n",
       "      <td>2008-01-01 18:19:00</td>\n",
       "      <td>@Tapac</td>\n",
       "      <td>develop</td>\n",
       "      <td>False</td>\n",
       "      <td>4305</td>\n",
       "      <td>Новогодний подарок блоггерам — WordPress 2.3.2</td>\n",
       "      <td>0</td>\n",
       "      <td>0</td>\n",
       "      <td>236</td>\n",
       "      <td>0.0</td>\n",
       "      <td>0.0</td>\n",
       "      <td>2008</td>\n",
       "      <td>1</td>\n",
       "      <td>2</td>\n",
       "      <td>18</td>\n",
       "    </tr>\n",
       "    <tr>\n",
       "      <th>1</th>\n",
       "      <td>https://habrahabr.ru/post/18285/</td>\n",
       "      <td>habrahabr.ru</td>\n",
       "      <td>18285</td>\n",
       "      <td>2008-01-01 18:30:00</td>\n",
       "      <td>@DezmASter</td>\n",
       "      <td>design</td>\n",
       "      <td>False</td>\n",
       "      <td>7344</td>\n",
       "      <td>Сумасшедшие яйца, или сервис для отслеживания ...</td>\n",
       "      <td>1</td>\n",
       "      <td>1</td>\n",
       "      <td>353</td>\n",
       "      <td>1.0</td>\n",
       "      <td>0.0</td>\n",
       "      <td>2008</td>\n",
       "      <td>1</td>\n",
       "      <td>2</td>\n",
       "      <td>18</td>\n",
       "    </tr>\n",
       "    <tr>\n",
       "      <th>2</th>\n",
       "      <td>https://habrahabr.ru/post/18286/</td>\n",
       "      <td>habrahabr.ru</td>\n",
       "      <td>18286</td>\n",
       "      <td>2008-01-01 18:34:00</td>\n",
       "      <td>@DezmASter</td>\n",
       "      <td>design</td>\n",
       "      <td>False</td>\n",
       "      <td>8431</td>\n",
       "      <td>Сумасшедшие яйца, или сервис для отслеживания ...</td>\n",
       "      <td>47</td>\n",
       "      <td>72</td>\n",
       "      <td>1200</td>\n",
       "      <td>45.0</td>\n",
       "      <td>5.0</td>\n",
       "      <td>2008</td>\n",
       "      <td>1</td>\n",
       "      <td>2</td>\n",
       "      <td>18</td>\n",
       "    </tr>\n",
       "    <tr>\n",
       "      <th>3</th>\n",
       "      <td>https://habrahabr.ru/post/18291/</td>\n",
       "      <td>habrahabr.ru</td>\n",
       "      <td>18291</td>\n",
       "      <td>2008-01-02 01:32:00</td>\n",
       "      <td>@Taoorus</td>\n",
       "      <td>design</td>\n",
       "      <td>False</td>\n",
       "      <td>5662</td>\n",
       "      <td>Сглаживание шрифтов, и субпиксельная отрисовка</td>\n",
       "      <td>102</td>\n",
       "      <td>36</td>\n",
       "      <td>5700</td>\n",
       "      <td>72.0</td>\n",
       "      <td>3.0</td>\n",
       "      <td>2008</td>\n",
       "      <td>1</td>\n",
       "      <td>3</td>\n",
       "      <td>1</td>\n",
       "    </tr>\n",
       "    <tr>\n",
       "      <th>4</th>\n",
       "      <td>https://geektimes.ru/post/18294/</td>\n",
       "      <td>geektimes.ru</td>\n",
       "      <td>18294</td>\n",
       "      <td>2008-01-02 14:34:00</td>\n",
       "      <td>@dennydo</td>\n",
       "      <td>NaN</td>\n",
       "      <td>False</td>\n",
       "      <td>3706</td>\n",
       "      <td>Почему мне не нравится iPhone</td>\n",
       "      <td>230</td>\n",
       "      <td>6</td>\n",
       "      <td>1400</td>\n",
       "      <td>73.0</td>\n",
       "      <td>15.0</td>\n",
       "      <td>2008</td>\n",
       "      <td>1</td>\n",
       "      <td>3</td>\n",
       "      <td>14</td>\n",
       "    </tr>\n",
       "  </tbody>\n",
       "</table>\n",
       "</div>"
      ],
      "text/plain": [
       "                                url        domain  post_id  \\\n",
       "0  https://habrahabr.ru/post/18284/  habrahabr.ru    18284   \n",
       "1  https://habrahabr.ru/post/18285/  habrahabr.ru    18285   \n",
       "2  https://habrahabr.ru/post/18286/  habrahabr.ru    18286   \n",
       "3  https://habrahabr.ru/post/18291/  habrahabr.ru    18291   \n",
       "4  https://geektimes.ru/post/18294/  geektimes.ru    18294   \n",
       "\n",
       "            published      author     flow  polling  content_len  \\\n",
       "0 2008-01-01 18:19:00      @Tapac  develop    False         4305   \n",
       "1 2008-01-01 18:30:00  @DezmASter   design    False         7344   \n",
       "2 2008-01-01 18:34:00  @DezmASter   design    False         8431   \n",
       "3 2008-01-02 01:32:00    @Taoorus   design    False         5662   \n",
       "4 2008-01-02 14:34:00    @dennydo      NaN    False         3706   \n",
       "\n",
       "                                               title  comments  favs  views  \\\n",
       "0     Новогодний подарок блоггерам — WordPress 2.3.2         0     0    236   \n",
       "1  Сумасшедшие яйца, или сервис для отслеживания ...         1     1    353   \n",
       "2  Сумасшедшие яйца, или сервис для отслеживания ...        47    72   1200   \n",
       "3     Сглаживание шрифтов, и субпиксельная отрисовка       102    36   5700   \n",
       "4                      Почему мне не нравится iPhone       230     6   1400   \n",
       "\n",
       "   votes_plus  votes_minus  year  month  dayofweek  hour  \n",
       "0         0.0          0.0  2008      1          2    18  \n",
       "1         1.0          0.0  2008      1          2    18  \n",
       "2        45.0          5.0  2008      1          2    18  \n",
       "3        72.0          3.0  2008      1          3     1  \n",
       "4        73.0         15.0  2008      1          3    14  "
      ]
     },
     "execution_count": 16,
     "metadata": {},
     "output_type": "execute_result"
    }
   ],
   "source": [
    "data.head()"
   ]
  },
  {
   "cell_type": "code",
   "execution_count": 17,
   "id": "28b7a1ce",
   "metadata": {},
   "outputs": [],
   "source": [
    "filtered_data = data[(data['year'].isin([2015, 2016])) & (data['month'].isin([3, 4]))]"
   ]
  },
  {
   "cell_type": "code",
   "execution_count": 18,
   "id": "2052aedf",
   "metadata": {},
   "outputs": [
    {
     "name": "stderr",
     "output_type": "stream",
     "text": [
      "C:\\Users\\User\\anaconda3\\lib\\site-packages\\seaborn\\_decorators.py:36: FutureWarning: Pass the following variable as a keyword arg: x. From version 0.12, the only valid positional argument will be `data`, and passing other arguments without an explicit keyword will result in an error or misinterpretation.\n",
      "  warnings.warn(\n"
     ]
    },
    {
     "data": {
      "text/plain": [
       "<AxesSubplot:xlabel='year', ylabel='count'>"
      ]
     },
     "execution_count": 18,
     "metadata": {},
     "output_type": "execute_result"
    },
    {
     "data": {
      "image/png": "[encoded data removed]",
      "text/plain": [
       "<Figure size 432x288 with 1 Axes>"
      ]
     },
     "metadata": {},
     "output_type": "display_data"
    }
   ],
   "source": [
    "sns.countplot(filtered_data['year'])"
   ]
  },
  {
   "cell_type": "code",
   "execution_count": 19,
   "id": "c10c3372",
   "metadata": {},
   "outputs": [],
   "source": [
    "data1 = filtered_data[['year', 'month']].value_counts()"
   ]
  },
  {
   "cell_type": "code",
   "execution_count": 20,
   "id": "82330b58",
   "metadata": {},
   "outputs": [
    {
     "data": {
      "text/plain": [
       "year  month\n",
       "2015  3        2189\n",
       "2016  3        2115\n",
       "2015  4        2110\n",
       "2016  4        1910\n",
       "dtype: int64"
      ]
     },
     "execution_count": 20,
     "metadata": {},
     "output_type": "execute_result"
    }
   ],
   "source": [
    "data1"
   ]
  },
  {
   "cell_type": "code",
   "execution_count": 21,
   "id": "146bd02a",
   "metadata": {},
   "outputs": [
    {
     "data": {
      "image/png": "[encoded data removed]",
      "text/plain": [
       "<Figure size 432x288 with 1 Axes>"
      ]
     },
     "metadata": {},
     "output_type": "display_data"
    }
   ],
   "source": [
    "plt.bar(\n",
    "    x='2015.03',\n",
    "    y=2000,\n",
    "    height=10000\n",
    ")\n",
    "plt.show()"
   ]
  },
  {
   "cell_type": "code",
   "execution_count": 22,
   "id": "c59e720b",
   "metadata": {},
   "outputs": [
    {
     "data": {
      "text/plain": [
       "<BarContainer object of 4 artists>"
      ]
     },
     "execution_count": 22,
     "metadata": {},
     "output_type": "execute_result"
    },
    {
     "data": {
      "image/png": "[encoded data removed]",
      "text/plain": [
       "<Figure size 432x288 with 1 Axes>"
      ]
     },
     "metadata": {},
     "output_type": "display_data"
    }
   ],
   "source": [
    "plt.bar(\n",
    "    [\"США\", \"Китай\", \"Япония\", \"Великобритания\"],\n",
    "    [39, 38, 27, 22],\n",
    "    color=[\"b\", \"r\", \"y\", \"g\"],\n",
    ")\n"
   ]
  },
  {
   "cell_type": "code",
   "execution_count": 23,
   "id": "f84d26f7",
   "metadata": {},
   "outputs": [
    {
     "data": {
      "text/plain": [
       "<BarContainer object of 4 artists>"
      ]
     },
     "execution_count": 23,
     "metadata": {},
     "output_type": "execute_result"
    },
    {
     "data": {
      "image/png": "[encoded data removed]",
      "text/plain": [
       "<Figure size 432x288 with 1 Axes>"
      ]
     },
     "metadata": {},
     "output_type": "display_data"
    }
   ],
   "source": [
    "plt.bar(\n",
    "    [str(i) for i in data1.index],\n",
    "    [data1[i] for i in data1.index],\n",
    "    \n",
    ")"
   ]
  },
  {
   "cell_type": "code",
   "execution_count": 24,
   "id": "be1b5828",
   "metadata": {},
   "outputs": [],
   "source": [
    "ff = data[(data['year'] == 2015) & (data['month'] == 3)]"
   ]
  },
  {
   "cell_type": "code",
   "execution_count": 25,
   "id": "89c4b845",
   "metadata": {},
   "outputs": [
    {
     "name": "stderr",
     "output_type": "stream",
     "text": [
      "C:\\Users\\User\\anaconda3\\lib\\site-packages\\seaborn\\_decorators.py:36: FutureWarning: Pass the following variable as a keyword arg: x. From version 0.12, the only valid positional argument will be `data`, and passing other arguments without an explicit keyword will result in an error or misinterpretation.\n",
      "  warnings.warn(\n"
     ]
    },
    {
     "data": {
      "text/plain": [
       "<AxesSubplot:xlabel='dayofweek', ylabel='count'>"
      ]
     },
     "execution_count": 25,
     "metadata": {},
     "output_type": "execute_result"
    },
    {
     "data": {
      "image/png": "[encoded data removed]",
      "text/plain": [
       "<Figure size 432x288 with 1 Axes>"
      ]
     },
     "metadata": {},
     "output_type": "display_data"
    }
   ],
   "source": [
    "sns.countplot(ff['dayofweek'])"
   ]
  },
  {
   "cell_type": "code",
   "execution_count": 26,
   "id": "430e36dc",
   "metadata": {},
   "outputs": [
    {
     "name": "stderr",
     "output_type": "stream",
     "text": [
      "C:\\Users\\User\\anaconda3\\lib\\site-packages\\seaborn\\_decorators.py:36: FutureWarning: Pass the following variable as a keyword arg: x. From version 0.12, the only valid positional argument will be `data`, and passing other arguments without an explicit keyword will result in an error or misinterpretation.\n",
      "  warnings.warn(\n"
     ]
    },
    {
     "data": {
      "text/plain": [
       "<AxesSubplot:xlabel='domain', ylabel='count'>"
      ]
     },
     "execution_count": 26,
     "metadata": {},
     "output_type": "execute_result"
    },
    {
     "data": {
      "image/png": "[encoded data removed]",
      "text/plain": [
       "<Figure size 432x288 with 1 Axes>"
      ]
     },
     "metadata": {},
     "output_type": "display_data"
    }
   ],
   "source": [
    "sns.countplot(ff['domain'])"
   ]
  },
  {
   "cell_type": "code",
   "execution_count": 27,
   "id": "71d53dab",
   "metadata": {},
   "outputs": [
    {
     "data": {
      "text/plain": [
       "<AxesSubplot:xlabel='dayofweek', ylabel='count'>"
      ]
     },
     "execution_count": 27,
     "metadata": {},
     "output_type": "execute_result"
    },
    {
     "data": {
      "image/png": "[encoded data removed]",
      "text/plain": [
       "<Figure size 432x288 with 1 Axes>"
      ]
     },
     "metadata": {},
     "output_type": "display_data"
    }
   ],
   "source": [
    "sns.countplot(x='dayofweek', hue='domain', data=ff)"
   ]
  },
  {
   "cell_type": "code",
   "execution_count": 29,
   "id": "c8c0aa43",
   "metadata": {},
   "outputs": [
    {
     "data": {
      "text/plain": [
       "<pandas.core.groupby.generic.SeriesGroupBy object at 0x00000227A42B0D60>"
      ]
     },
     "execution_count": 29,
     "metadata": {},
     "output_type": "execute_result"
    }
   ],
   "source": [
    "data.groupby('author')['votes_minus']"
   ]
  },
  {
   "cell_type": "code",
   "execution_count": 31,
   "id": "31106e97",
   "metadata": {},
   "outputs": [
    {
     "data": {
      "text/plain": [
       "<AxesSubplot:xlabel='hour'>"
      ]
     },
     "execution_count": 31,
     "metadata": {},
     "output_type": "execute_result"
    },
    {
     "data": {
      "image/png": "[encoded data removed]",
      "text/plain": [
       "<Figure size 432x288 with 1 Axes>"
      ]
     },
     "metadata": {},
     "output_type": "display_data"
    }
   ],
   "source": [
    "data.groupby('hour')['views'].agg(sum).plot(kind='bar')"
   ]
  },
  {
   "cell_type": "code",
   "execution_count": 32,
   "id": "6014d7c8",
   "metadata": {},
   "outputs": [
    {
     "data": {
      "text/plain": [
       "<AxesSubplot:xlabel='hour'>"
      ]
     },
     "execution_count": 32,
     "metadata": {},
     "output_type": "execute_result"
    },
    {
     "data": {
      "image/png": "[encoded data removed]",
      "text/plain": [
       "<Figure size 432x288 with 1 Axes>"
      ]
     },
     "metadata": {},
     "output_type": "display_data"
    }
   ],
   "source": [
    "data.groupby('hour')['comments'].agg(sum).plot(kind='bar')"
   ]
  },
  {
   "cell_type": "code",
   "execution_count": 33,
   "id": "3307b5ca",
   "metadata": {},
   "outputs": [
    {
     "data": {
      "text/plain": [
       "hour          23\n",
       "comments    2266\n",
       "dtype: int64"
      ]
     },
     "execution_count": 33,
     "metadata": {},
     "output_type": "execute_result"
    }
   ],
   "source": [
    "data[(data['domain'] == 'geektimes.ru')][['hour','comments']].max()"
   ]
  },
  {
   "cell_type": "code",
   "execution_count": 34,
   "id": "2066e439",
   "metadata": {},
   "outputs": [
    {
     "data": {
      "text/html": [
       "<div>\n",
       "<style scoped>\n",
       "    .dataframe tbody tr th:only-of-type {\n",
       "        vertical-align: middle;\n",
       "    }\n",
       "\n",
       "    .dataframe tbody tr th {\n",
       "        vertical-align: top;\n",
       "    }\n",
       "\n",
       "    .dataframe thead th {\n",
       "        text-align: right;\n",
       "    }\n",
       "</style>\n",
       "<table border=\"1\" class=\"dataframe\">\n",
       "  <thead>\n",
       "    <tr style=\"text-align: right;\">\n",
       "      <th></th>\n",
       "      <th>url</th>\n",
       "      <th>domain</th>\n",
       "      <th>post_id</th>\n",
       "      <th>published</th>\n",
       "      <th>author</th>\n",
       "      <th>flow</th>\n",
       "      <th>polling</th>\n",
       "      <th>content_len</th>\n",
       "      <th>title</th>\n",
       "      <th>comments</th>\n",
       "      <th>favs</th>\n",
       "      <th>views</th>\n",
       "      <th>votes_plus</th>\n",
       "      <th>votes_minus</th>\n",
       "      <th>year</th>\n",
       "      <th>month</th>\n",
       "      <th>dayofweek</th>\n",
       "      <th>hour</th>\n",
       "    </tr>\n",
       "  </thead>\n",
       "  <tbody>\n",
       "    <tr>\n",
       "      <th>38763</th>\n",
       "      <td>https://geektimes.ru/post/123157/</td>\n",
       "      <td>geektimes.ru</td>\n",
       "      <td>123157</td>\n",
       "      <td>2011-07-01 02:35:00</td>\n",
       "      <td>@Dottore</td>\n",
       "      <td>NaN</td>\n",
       "      <td>False</td>\n",
       "      <td>2158</td>\n",
       "      <td>Как раздавать инвайты на Google+</td>\n",
       "      <td>2266</td>\n",
       "      <td>24</td>\n",
       "      <td>15300</td>\n",
       "      <td>226.0</td>\n",
       "      <td>55.0</td>\n",
       "      <td>2011</td>\n",
       "      <td>7</td>\n",
       "      <td>5</td>\n",
       "      <td>2</td>\n",
       "    </tr>\n",
       "  </tbody>\n",
       "</table>\n",
       "</div>"
      ],
      "text/plain": [
       "                                     url        domain  post_id  \\\n",
       "38763  https://geektimes.ru/post/123157/  geektimes.ru   123157   \n",
       "\n",
       "                published    author flow  polling  content_len  \\\n",
       "38763 2011-07-01 02:35:00  @Dottore  NaN    False         2158   \n",
       "\n",
       "                                  title  comments  favs  views  votes_plus  \\\n",
       "38763  Как раздавать инвайты на Google+      2266    24  15300       226.0   \n",
       "\n",
       "       votes_minus  year  month  dayofweek  hour  \n",
       "38763         55.0  2011      7          5     2  "
      ]
     },
     "execution_count": 34,
     "metadata": {},
     "output_type": "execute_result"
    }
   ],
   "source": [
    "data[data['comments'] == 2266]"
   ]
  },
  {
   "cell_type": "code",
   "execution_count": null,
   "id": "71f6e4c6",
   "metadata": {},
   "outputs": [],
   "source": []
  },
  {
   "cell_type": "code",
   "execution_count": 35,
   "id": "08542acd",
   "metadata": {},
   "outputs": [
    {
     "data": {
      "text/plain": [
       "<AxesSubplot:xlabel='hour', ylabel='count'>"
      ]
     },
     "execution_count": 35,
     "metadata": {},
     "output_type": "execute_result"
    },
    {
     "data": {
      "image/png": "[encoded data removed]",
      "text/plain": [
       "<Figure size 432x288 with 1 Axes>"
      ]
     },
     "metadata": {},
     "output_type": "display_data"
    }
   ],
   "source": [
    "sns.countplot(x='hour', data=data[data['dayofweek'] == 1])"
   ]
  },
  {
   "cell_type": "code",
   "execution_count": 36,
   "id": "3ec88e74",
   "metadata": {},
   "outputs": [
    {
     "data": {
      "text/plain": [
       "<AxesSubplot:xlabel='hour', ylabel='count'>"
      ]
     },
     "execution_count": 36,
     "metadata": {},
     "output_type": "execute_result"
    },
    {
     "data": {
      "image/png": "[encoded data removed]",
      "text/plain": [
       "<Figure size 432x288 with 1 Axes>"
      ]
     },
     "metadata": {},
     "output_type": "display_data"
    }
   ],
   "source": [
    "sns.countplot(x='hour', data=data[data['dayofweek'] == 6])"
   ]
  },
  {
   "cell_type": "code",
   "execution_count": 37,
   "id": "5da38f1c",
   "metadata": {},
   "outputs": [
    {
     "data": {
      "text/plain": [
       "array([2, 3, 4, 5, 6, 7, 1], dtype=int64)"
      ]
     },
     "execution_count": 37,
     "metadata": {},
     "output_type": "execute_result"
    }
   ],
   "source": [
    "data['dayofweek'].unique()"
   ]
  },
  {
   "cell_type": "code",
   "execution_count": 41,
   "id": "a7650026",
   "metadata": {},
   "outputs": [],
   "source": [
    "data['get_minus'] = data['votes_minus'] > 0"
   ]
  },
  {
   "cell_type": "code",
   "execution_count": 76,
   "id": "34721849",
   "metadata": {},
   "outputs": [
    {
     "data": {
      "text/plain": [
       "author\n",
       "@alizar              5292\n",
       "@marks               4711\n",
       "@SLY_G               1939\n",
       "@ivansychev          1350\n",
       "@semen_grinshtein    1171\n",
       "Name: get_minus, dtype: int64"
      ]
     },
     "execution_count": 76,
     "metadata": {},
     "output_type": "execute_result"
    }
   ],
   "source": [
    "data.groupby('author')['get_minus'].count().nlargest(5)"
   ]
  },
  {
   "cell_type": "code",
   "execution_count": 65,
   "id": "feed8a85",
   "metadata": {},
   "outputs": [
    {
     "data": {
      "text/plain": [
       "author\n",
       "@alizar              5292\n",
       "@marks               4711\n",
       "@SLY_G               1939\n",
       "@ivansychev          1350\n",
       "@semen_grinshtein    1171\n",
       "@jeston              1060\n",
       "@aleksandrit          633\n",
       "@XaocCPS              603\n",
       "@Mithgol              560\n",
       "@Mordatyj             546\n",
       "@Shapelez             537\n",
       "@ilya42               512\n",
       "@atomlib              452\n",
       "@ragequit             444\n",
       "@Tylerskald           439\n",
       "@andorro              278\n",
       "@jasiejames           213\n",
       "@lozga                200\n",
       "@Sterhel              191\n",
       "@Jeditobe             181\n",
       "Name: url, dtype: int64"
      ]
     },
     "execution_count": 65,
     "metadata": {},
     "output_type": "execute_result"
    }
   ],
   "source": [
    "data.groupby('author')['url'].count().nlargest(20)"
   ]
  },
  {
   "cell_type": "code",
   "execution_count": 53,
   "id": "c4cd8ecd",
   "metadata": {},
   "outputs": [
    {
     "data": {
      "text/plain": [
       "<AxesSubplot:xlabel='hour', ylabel='count'>"
      ]
     },
     "execution_count": 53,
     "metadata": {},
     "output_type": "execute_result"
    },
    {
     "data": {
      "image/png": "[encoded data removed]",
      "text/plain": [
       "<Figure size 432x288 with 1 Axes>"
      ]
     },
     "metadata": {},
     "output_type": "display_data"
    }
   ],
   "source": [
    "sns.countplot(x='hour', data=data[(data['dayofweek'] == 1) & (data['domain'] == 'habrahabr.ru')])"
   ]
  },
  {
   "cell_type": "code",
   "execution_count": 63,
   "id": "d6a15266",
   "metadata": {},
   "outputs": [
    {
     "data": {
      "text/plain": [
       "author\n",
       "@alizar              5072\n",
       "@marks               3918\n",
       "@SLY_G               1863\n",
       "@ivansychev           960\n",
       "@jeston               904\n",
       "@aleksandrit          629\n",
       "@XaocCPS              578\n",
       "@Mithgol              555\n",
       "@Mordatyj             532\n",
       "@ilya42               490\n",
       "@semen_grinshtein     443\n",
       "@Tylerskald           413\n",
       "@ragequit             385\n",
       "@Shapelez             360\n",
       "@atomlib              359\n",
       "@andorro              270\n",
       "@Sterhel              191\n",
       "@Jeditobe             180\n",
       "@Boomburum            162\n",
       "@Shpankov             144\n",
       "Name: get_minus, dtype: int64"
      ]
     },
     "execution_count": 63,
     "metadata": {},
     "output_type": "execute_result"
    }
   ],
   "source": [
    "pp"
   ]
  },
  {
   "cell_type": "code",
   "execution_count": null,
   "id": "2ab34118",
   "metadata": {},
   "outputs": [],
   "source": []
  }
 ],
 "metadata": {
  "kernelspec": {
   "display_name": "Python 3 (ipykernel)",
   "language": "python",
   "name": "python3"
  },
  "language_info": {
   "codemirror_mode": {
    "name": "ipython",
    "version": 3
   },
   "file_extension": ".py",
   "mimetype": "text/x-python",
   "name": "python",
   "nbconvert_exporter": "python",
   "pygments_lexer": "ipython3",
   "version": "3.9.7"
  }
 },
 "nbformat": 4,
 "nbformat_minor": 5
}
